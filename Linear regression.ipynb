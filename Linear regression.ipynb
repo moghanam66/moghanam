{
 "cells": [
  {
   "cell_type": "code",
   "execution_count": 386,
   "metadata": {},
   "outputs": [],
   "source": [
    "import numpy as np\n",
    "import matplotlib.pyplot as plt\n",
    "import pandas as pd\n",
    "from sklearn.metrics import r2_score\n",
    "from sklearn.utils import shuffle\n"
   ]
  },
  {
   "cell_type": "code",
   "execution_count": 429,
   "metadata": {},
   "outputs": [],
   "source": [
    "class LinearRegression:\n",
    "    def __init__(self,x,y,iteration,alpha, algo='batch',mini_batch_size=1,gamma=0.9):\n",
    "        self.m=len(x)\n",
    "        self.x,self.y=self.__process(x,y)\n",
    "        self.iteration=iteration\n",
    "        self.alpha=alpha\n",
    "        self.algo=algo\n",
    "        self.batchSize=mini_batch_size\n",
    "        self.gamma=gamma\n",
    "        self.x=np.insert(self.x,0,np.ones(self.m),1)\n",
    "        self.theta=np.zeros(self.x.shape[1])\n",
    "        self.v=np.zeros(self.x.shape[1])\n",
    "        self.cost=0\n",
    "        self.costHistory=[]\n",
    "        self.thetaHistory=[]\n",
    "        \n",
    "    def __process(self,x,y):\n",
    "        y=np.array(y).reshape((y.shape[0],))\n",
    "        x=np.array(x)\n",
    "        if len(x.shape)<2:\n",
    "            x= x.reshape((x.shape[0],1))\n",
    "        \n",
    "        return shuffle(x, y)\n",
    "    \n",
    "    def  __hypo(self,x,theta):\n",
    "        return x@theta.T\n",
    "    \n",
    "    def __cost(self,h,y):\n",
    "        return sum((h-y)**2)/self.m\n",
    "    \n",
    "    def  __gradient(self,x,y,h):\n",
    "        return (1/len(x))*(x.T@(h-y))\n",
    "    \n",
    "    def __updateLog(self):\n",
    "        self.costHistory.append(self.cost)\n",
    "        self.thetaHistory.append(self.theta)\n",
    "    \n",
    "    def __batchGD(self):\n",
    "        for epoch in range(self.iteration):\n",
    "            h=self.__hypo(self.x,self.theta)\n",
    "            grad=self.__gradient(self.x,self.y,h)\n",
    "            self.theta=self.theta-self.alpha*grad\n",
    "            self.cost=self.__cost(h,y)\n",
    "            self.__updateLog()\n",
    "#             if epoch>1 and self.costHistory[epoch-1]-self.costHistory[epoch]<=0.001:\n",
    "#                 break\n",
    "                \n",
    "        \n",
    "        \n",
    "        \n",
    "    \n",
    "    def __miniBatchGD(self):\n",
    "        size=self.m//self.batchSize\n",
    "        remainder=self.m%self.batchSize\n",
    "        for epoch in range(self.iteration):\n",
    "            for i in range(self.batchSize):\n",
    "                start=i*size\n",
    "                end=(i+1)*size if i<self.batchSize-1 else ((i+1)*size)+remainder\n",
    "                h=self.__hypo(self.x[start:end,:],self.theta)\n",
    "                grad=self.__gradient(self.x[start:end,:],self.y[start:end],h)\n",
    "                self.theta=self.theta-self.alpha*grad\n",
    "                self.cost=self.__cost(h,self.y[start:end])\n",
    "            self.__updateLog()\n",
    "    \n",
    "    \n",
    "    \n",
    "    \n",
    "    def __stochasticGD(self):\n",
    "        for epoch in range(self.iteration):\n",
    "            H,Y=[],[]\n",
    "            for i in range(self.m):\n",
    "                h=self.__hypo(self.x[i,:],self.theta)\n",
    "                grad=self.__gradient(self.x[i:i+1,:],self.y[i:i+1],h)\n",
    "                self.theta=self.theta-self.alpha*grad\n",
    "                H.append(h)\n",
    "                Y.append(y[i])\n",
    "            self.cost=self.__cost(np.array(H),np.array(Y))\n",
    "            self.__updateLog()\n",
    "#             if epoch>1 and self.costHistory[epoch-1]-self.costHistory[epoch]<=0.001:\n",
    "#                 break\n",
    "    \n",
    "    \n",
    "    def __momentumGD(self):\n",
    "         for epoch in range(self.iteration):\n",
    "            h=self.__hypo(self.x,self.theta)\n",
    "            grad=self.__gradient(self.x,self.y,h)\n",
    "            self.v=self.gamma*self.v+self.alpha*grad\n",
    "            self.theta=self.theta-self.v\n",
    "            self.cost=self.__cost(h,y)\n",
    "            self.__updateLog()\n",
    "            \n",
    "            \n",
    "    def __nagGD(self):\n",
    "        for epoch in range(self.iteration):\n",
    "            temp=self.theta-self.gamma*self.v\n",
    "            h=self.__hypo(self.x,temp)\n",
    "            grad=self.__gradient(self.x,self.y,h)\n",
    "            self.theta=temp-self.alpha*grad\n",
    "            self.v=self.gamma*self.v+self.alpha*grad\n",
    "            self.cost=self.__cost(h,y)\n",
    "            self.__updateLog()\n",
    "              \n",
    "            \n",
    "    def train(self):\n",
    "        self.costHistory,self.thetaHistory,self.cost=[],[],0\n",
    "        \n",
    "        if algo=='stochastic':\n",
    "            self.__stochasticGD()\n",
    "    \n",
    "        elif algo=='batch':\n",
    "            self.__batchGD()\n",
    "        \n",
    "        elif algo=='miniBatch':\n",
    "            self.__miniBatchGD()\n",
    "            \n",
    "        elif algo=='momentum':\n",
    "            self.__momentumGD()\n",
    "            \n",
    "        elif algo=='nag':\n",
    "            self.__nagGD()\n",
    "            \n",
    "    def history(self):\n",
    "        return np.array(self.costHistory),np.array(self.thetaHistory)\n",
    "    \n",
    "    def predict(self,x):\n",
    "        x=np.array(x)\n",
    "        if len(x.shape)<2:\n",
    "            x= x.reshape((x.shape[0],1))\n",
    "        x=np.insert(x,0,np.ones(self.m),1)\n",
    "        return self.__hypo(x,self.theta)\n",
    "    "
   ]
  },
  {
   "cell_type": "code",
   "execution_count": 387,
   "metadata": {},
   "outputs": [],
   "source": [
    "# DATA 1\n",
    "x=np.array([[1400],[1600],[1700],[1875],[1100],[1550],[2350],[2450],[1425],[1700]])\n",
    "y=np.array([[245000],[312000],[279000],[308000],[199000],[219000],[405000],[324000],[319000],[255000]])\n"
   ]
  },
  {
   "cell_type": "code",
   "execution_count": 469,
   "metadata": {},
   "outputs": [],
   "source": [
    "# DATA 2\n",
    "# data=pd.read_csv(\"student_scores.csv\")\n",
    "# x=data.iloc[:,:-1]\n",
    "# y=data.iloc[:,-1]\n",
    "data=np.genfromtxt(\"student_scores.csv\", delimiter=',',skip_header=1)\n",
    "x=data[:,:-1]\n",
    "y=data[:,-1]\n"
   ]
  },
  {
   "cell_type": "code",
   "execution_count": 451,
   "metadata": {},
   "outputs": [],
   "source": [
    "# DATA 3\n",
    "data=np.genfromtxt(\"california_housing_train.csv\", delimiter=',', skip_header=1)\n",
    "x=data[:,:-1]\n",
    "y=data[:,-1]"
   ]
  },
  {
   "cell_type": "code",
   "execution_count": 467,
   "metadata": {},
   "outputs": [],
   "source": [
    "# normalization for each column \n",
    "for i in range(x.shape[1]):\n",
    "    x[:,i]=(x[:,i]-x[:,i].mean())/x[:,i].std()"
   ]
  },
  {
   "cell_type": "code",
   "execution_count": 470,
   "metadata": {},
   "outputs": [
    {
     "data": {
      "text/plain": [
       "0.9527784938617239"
      ]
     },
     "execution_count": 470,
     "metadata": {},
     "output_type": "execute_result"
    }
   ],
   "source": [
    "alpha=0.01\n",
    "iteration=100\n",
    "algo='batch'\n",
    "lr_model=LinearRegression(x,y,iteration,alpha,algo)\n",
    "lr_model.train()\n",
    "y_hat=lr_model.predict(x)\n",
    "r2_score(y, y_hat)"
   ]
  },
  {
   "cell_type": "code",
   "execution_count": 484,
   "metadata": {},
   "outputs": [
    {
     "data": {
      "text/plain": [
       "[<matplotlib.lines.Line2D at 0xff7a3d0>]"
      ]
     },
     "execution_count": 484,
     "metadata": {},
     "output_type": "execute_result"
    },
    {
     "data": {
      "image/png": "[encoded data removed]",
      "text/plain": [
       "<Figure size 432x288 with 1 Axes>"
      ]
     },
     "metadata": {
      "needs_background": "light"
     },
     "output_type": "display_data"
    }
   ],
   "source": [
    "cost,_=lr_model.history()\n",
    "plt.plot(cost)"
   ]
  },
  {
   "cell_type": "code",
   "execution_count": 482,
   "metadata": {},
   "outputs": [
    {
     "data": {
      "text/plain": [
       "0.9526214386260681"
      ]
     },
     "execution_count": 482,
     "metadata": {},
     "output_type": "execute_result"
    }
   ],
   "source": [
    "alpha=0.001\n",
    "iteration=10\n",
    "algo='stochastic'\n",
    "lr_model=LinearRegression(x,y,iteration,alpha,algo)\n",
    "lr_model.train()\n",
    "y_hat=lr_model.predict(x)\n",
    "r2_score(y, y_hat)"
   ]
  },
  {
   "cell_type": "code",
   "execution_count": 483,
   "metadata": {},
   "outputs": [
    {
     "data": {
      "text/plain": [
       "[<matplotlib.lines.Line2D at 0x105a4220>]"
      ]
     },
     "execution_count": 483,
     "metadata": {},
     "output_type": "execute_result"
    },
    {
     "data": {
      "image/png": "[encoded data removed]",
      "text/plain": [
       "<Figure size 432x288 with 1 Axes>"
      ]
     },
     "metadata": {
      "needs_background": "light"
     },
     "output_type": "display_data"
    }
   ],
   "source": [
    "cost,_=lr_model.history()\n",
    "plt.plot(cost)"
   ]
  },
  {
   "cell_type": "code",
   "execution_count": 474,
   "metadata": {},
   "outputs": [
    {
     "data": {
      "text/plain": [
       "0.9527454310821685"
      ]
     },
     "execution_count": 474,
     "metadata": {},
     "output_type": "execute_result"
    }
   ],
   "source": [
    "alpha=0.01\n",
    "iteration=15\n",
    "algo='miniBatch'\n",
    "batchSize=2\n",
    "lr_model=LinearRegression(x,y,iteration,alpha,algo,batchSize)\n",
    "lr_model.train()\n",
    "y_hat=lr_model.predict(x)\n",
    "r2_score(y, y_hat)"
   ]
  },
  {
   "cell_type": "code",
   "execution_count": 475,
   "metadata": {
    "scrolled": true
   },
   "outputs": [
    {
     "data": {
      "text/plain": [
       "[<matplotlib.lines.Line2D at 0xfc50a90>]"
      ]
     },
     "execution_count": 475,
     "metadata": {},
     "output_type": "execute_result"
    },
    {
     "data": {
      "image/png": "[encoded data removed]",
      "text/plain": [
       "<Figure size 432x288 with 1 Axes>"
      ]
     },
     "metadata": {
      "needs_background": "light"
     },
     "output_type": "display_data"
    }
   ],
   "source": [
    "cost,_=lr_model.history()\n",
    "plt.plot(cost)"
   ]
  },
  {
   "cell_type": "code",
   "execution_count": 476,
   "metadata": {},
   "outputs": [
    {
     "data": {
      "text/plain": [
       "0.9528678218600242"
      ]
     },
     "execution_count": 476,
     "metadata": {},
     "output_type": "execute_result"
    }
   ],
   "source": [
    "alpha=0.01\n",
    "iteration=100\n",
    "algo='momentum'\n",
    "gamma=0.9\n",
    "lr_model=LinearRegression(x,y,iteration,alpha,algo,gamma=gamma)\n",
    "lr_model.train()\n",
    "y_hat=lr_model.predict(x)\n",
    "r2_score(y, y_hat) "
   ]
  },
  {
   "cell_type": "code",
   "execution_count": 477,
   "metadata": {},
   "outputs": [
    {
     "data": {
      "text/plain": [
       "[<matplotlib.lines.Line2D at 0xfc1bc40>]"
      ]
     },
     "execution_count": 477,
     "metadata": {},
     "output_type": "execute_result"
    },
    {
     "data": {
      "image/png": "[encoded data removed]",
      "text/plain": [
       "<Figure size 432x288 with 1 Axes>"
      ]
     },
     "metadata": {
      "needs_background": "light"
     },
     "output_type": "display_data"
    }
   ],
   "source": [
    "cost,_=lr_model.history()\n",
    "plt.plot(cost)"
   ]
  },
  {
   "cell_type": "code",
   "execution_count": 478,
   "metadata": {},
   "outputs": [
    {
     "data": {
      "text/plain": [
       "0.9188198344967863"
      ]
     },
     "execution_count": 478,
     "metadata": {},
     "output_type": "execute_result"
    }
   ],
   "source": [
    "alpha=0.01\n",
    "iteration=10\n",
    "algo='nag'\n",
    "gamma=0.9\n",
    "lr_model=LinearRegression(x,y,iteration,alpha,algo,gamma=gamma)\n",
    "lr_model.train()\n",
    "y_hat=lr_model.predict(x)\n",
    "r2_score(y, y_hat) "
   ]
  },
  {
   "cell_type": "code",
   "execution_count": 479,
   "metadata": {},
   "outputs": [
    {
     "data": {
      "text/plain": [
       "[<matplotlib.lines.Line2D at 0xfca88e0>]"
      ]
     },
     "execution_count": 479,
     "metadata": {},
     "output_type": "execute_result"
    },
    {
     "data": {
      "image/png": "[encoded data removed]",
      "text/plain": [
       "<Figure size 432x288 with 1 Axes>"
      ]
     },
     "metadata": {
      "needs_background": "light"
     },
     "output_type": "display_data"
    }
   ],
   "source": [
    "cost,_=lr_model.history()\n",
    "plt.plot(cost)"
   ]
  },
  {
   "cell_type": "code",
   "execution_count": null,
   "metadata": {},
   "outputs": [],
   "source": []
  },
  {
   "cell_type": "code",
   "execution_count": null,
   "metadata": {},
   "outputs": [],
   "source": []
  }
 ],
 "metadata": {
  "kernelspec": {
   "display_name": "Python 3",
   "language": "python",
   "name": "python3"
  },
  "language_info": {
   "codemirror_mode": {
    "name": "ipython",
    "version": 3
   },
   "file_extension": ".py",
   "mimetype": "text/x-python",
   "name": "python",
   "nbconvert_exporter": "python",
   "pygments_lexer": "ipython3",
   "version": "3.8.5"
  }
 },
 "nbformat": 4,
 "nbformat_minor": 4
}
