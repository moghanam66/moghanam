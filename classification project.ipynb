{
  "nbformat": 4,
  "nbformat_minor": 0,
  "metadata": {
    "colab": {
      "name": "mohamed_adel_elghannam_ml1_day8.ipynb",
      "provenance": []
    },
    "kernelspec": {
      "name": "python3",
      "display_name": "Python 3"
    },
    "language_info": {
      "name": "python"
    }
  },
  "cells": [
    {
      "cell_type": "code",
      "metadata": {
        "id": "YACb0Dg62_QY"
      },
      "source": [
        "import pandas as pd\n",
        "import matplotlib.pyplot as plt\n",
        "import numpy as np\n",
        "\n",
        "from sklearn.preprocessing import StandardScaler\n",
        "\n",
        "from imblearn.over_sampling import SMOTE\n",
        "\n",
        "\n",
        "from sklearn.metrics import mean_absolute_error\n",
        "from sklearn.metrics import median_absolute_error\n",
        "from sklearn.metrics import mean_squared_error\n",
        "from sklearn.metrics import mean_squared_log_error\n",
        "from sklearn.metrics import r2_score\n",
        "\n",
        "from sklearn.model_selection import cross_val_score\n",
        "from sklearn.metrics import accuracy_score\n",
        "from sklearn.metrics import confusion_matrix\n",
        "from sklearn.metrics import classification_report\n",
        "from sklearn.metrics import f1_score"
      ],
      "execution_count": null,
      "outputs": []
    },
    {
      "cell_type": "code",
      "metadata": {
        "id": "uRPLO6L33zw1"
      },
      "source": [
        "train_df = pd.read_csv(\"Training Data.csv\")"
      ],
      "execution_count": null,
      "outputs": []
    },
    {
      "cell_type": "code",
      "metadata": {
        "colab": {
          "base_uri": "https://localhost:8080/",
          "height": 357
        },
        "id": "S7kTEq7O38E6",
        "outputId": "9386d862-2787-4c4d-d5e9-f4101b30221f"
      },
      "source": [
        "train_df.head(10)"
      ],
      "execution_count": null,
      "outputs": [
        {
          "output_type": "execute_result",
          "data": {
            "text/html": [
              "<div>\n",
              "<style scoped>\n",
              "    .dataframe tbody tr th:only-of-type {\n",
              "        vertical-align: middle;\n",
              "    }\n",
              "\n",
              "    .dataframe tbody tr th {\n",
              "        vertical-align: top;\n",
              "    }\n",
              "\n",
              "    .dataframe thead th {\n",
              "        text-align: right;\n",
              "    }\n",
              "</style>\n",
              "<table border=\"1\" class=\"dataframe\">\n",
              "  <thead>\n",
              "    <tr style=\"text-align: right;\">\n",
              "      <th></th>\n",
              "      <th>Id</th>\n",
              "      <th>Income</th>\n",
              "      <th>Age</th>\n",
              "      <th>Experience</th>\n",
              "      <th>Married/Single</th>\n",
              "      <th>House_Ownership</th>\n",
              "      <th>Car_Ownership</th>\n",
              "      <th>Profession</th>\n",
              "      <th>CITY</th>\n",
              "      <th>STATE</th>\n",
              "      <th>CURRENT_JOB_YRS</th>\n",
              "      <th>CURRENT_HOUSE_YRS</th>\n",
              "      <th>Risk_Flag</th>\n",
              "    </tr>\n",
              "  </thead>\n",
              "  <tbody>\n",
              "    <tr>\n",
              "      <th>0</th>\n",
              "      <td>1</td>\n",
              "      <td>1303834</td>\n",
              "      <td>23</td>\n",
              "      <td>3</td>\n",
              "      <td>single</td>\n",
              "      <td>rented</td>\n",
              "      <td>no</td>\n",
              "      <td>Mechanical_engineer</td>\n",
              "      <td>Rewa</td>\n",
              "      <td>Madhya_Pradesh</td>\n",
              "      <td>3</td>\n",
              "      <td>13</td>\n",
              "      <td>0</td>\n",
              "    </tr>\n",
              "    <tr>\n",
              "      <th>1</th>\n",
              "      <td>2</td>\n",
              "      <td>7574516</td>\n",
              "      <td>40</td>\n",
              "      <td>10</td>\n",
              "      <td>single</td>\n",
              "      <td>rented</td>\n",
              "      <td>no</td>\n",
              "      <td>Software_Developer</td>\n",
              "      <td>Parbhani</td>\n",
              "      <td>Maharashtra</td>\n",
              "      <td>9</td>\n",
              "      <td>13</td>\n",
              "      <td>0</td>\n",
              "    </tr>\n",
              "    <tr>\n",
              "      <th>2</th>\n",
              "      <td>3</td>\n",
              "      <td>3991815</td>\n",
              "      <td>66</td>\n",
              "      <td>4</td>\n",
              "      <td>married</td>\n",
              "      <td>rented</td>\n",
              "      <td>no</td>\n",
              "      <td>Technical_writer</td>\n",
              "      <td>Alappuzha</td>\n",
              "      <td>Kerala</td>\n",
              "      <td>4</td>\n",
              "      <td>10</td>\n",
              "      <td>0</td>\n",
              "    </tr>\n",
              "    <tr>\n",
              "      <th>3</th>\n",
              "      <td>4</td>\n",
              "      <td>6256451</td>\n",
              "      <td>41</td>\n",
              "      <td>2</td>\n",
              "      <td>single</td>\n",
              "      <td>rented</td>\n",
              "      <td>yes</td>\n",
              "      <td>Software_Developer</td>\n",
              "      <td>Bhubaneswar</td>\n",
              "      <td>Odisha</td>\n",
              "      <td>2</td>\n",
              "      <td>12</td>\n",
              "      <td>1</td>\n",
              "    </tr>\n",
              "    <tr>\n",
              "      <th>4</th>\n",
              "      <td>5</td>\n",
              "      <td>5768871</td>\n",
              "      <td>47</td>\n",
              "      <td>11</td>\n",
              "      <td>single</td>\n",
              "      <td>rented</td>\n",
              "      <td>no</td>\n",
              "      <td>Civil_servant</td>\n",
              "      <td>Tiruchirappalli[10]</td>\n",
              "      <td>Tamil_Nadu</td>\n",
              "      <td>3</td>\n",
              "      <td>14</td>\n",
              "      <td>1</td>\n",
              "    </tr>\n",
              "    <tr>\n",
              "      <th>5</th>\n",
              "      <td>6</td>\n",
              "      <td>6915937</td>\n",
              "      <td>64</td>\n",
              "      <td>0</td>\n",
              "      <td>single</td>\n",
              "      <td>rented</td>\n",
              "      <td>no</td>\n",
              "      <td>Civil_servant</td>\n",
              "      <td>Jalgaon</td>\n",
              "      <td>Maharashtra</td>\n",
              "      <td>0</td>\n",
              "      <td>12</td>\n",
              "      <td>0</td>\n",
              "    </tr>\n",
              "    <tr>\n",
              "      <th>6</th>\n",
              "      <td>7</td>\n",
              "      <td>3954973</td>\n",
              "      <td>58</td>\n",
              "      <td>14</td>\n",
              "      <td>married</td>\n",
              "      <td>rented</td>\n",
              "      <td>no</td>\n",
              "      <td>Librarian</td>\n",
              "      <td>Tiruppur</td>\n",
              "      <td>Tamil_Nadu</td>\n",
              "      <td>8</td>\n",
              "      <td>12</td>\n",
              "      <td>0</td>\n",
              "    </tr>\n",
              "    <tr>\n",
              "      <th>7</th>\n",
              "      <td>8</td>\n",
              "      <td>1706172</td>\n",
              "      <td>33</td>\n",
              "      <td>2</td>\n",
              "      <td>single</td>\n",
              "      <td>rented</td>\n",
              "      <td>no</td>\n",
              "      <td>Economist</td>\n",
              "      <td>Jamnagar</td>\n",
              "      <td>Gujarat</td>\n",
              "      <td>2</td>\n",
              "      <td>14</td>\n",
              "      <td>0</td>\n",
              "    </tr>\n",
              "    <tr>\n",
              "      <th>8</th>\n",
              "      <td>9</td>\n",
              "      <td>7566849</td>\n",
              "      <td>24</td>\n",
              "      <td>17</td>\n",
              "      <td>single</td>\n",
              "      <td>rented</td>\n",
              "      <td>yes</td>\n",
              "      <td>Flight_attendant</td>\n",
              "      <td>Kota[6]</td>\n",
              "      <td>Rajasthan</td>\n",
              "      <td>11</td>\n",
              "      <td>11</td>\n",
              "      <td>0</td>\n",
              "    </tr>\n",
              "    <tr>\n",
              "      <th>9</th>\n",
              "      <td>10</td>\n",
              "      <td>8964846</td>\n",
              "      <td>23</td>\n",
              "      <td>12</td>\n",
              "      <td>single</td>\n",
              "      <td>rented</td>\n",
              "      <td>no</td>\n",
              "      <td>Architect</td>\n",
              "      <td>Karimnagar</td>\n",
              "      <td>Telangana</td>\n",
              "      <td>5</td>\n",
              "      <td>13</td>\n",
              "      <td>0</td>\n",
              "    </tr>\n",
              "  </tbody>\n",
              "</table>\n",
              "</div>"
            ],
            "text/plain": [
              "   Id   Income  Age  ...  CURRENT_JOB_YRS CURRENT_HOUSE_YRS Risk_Flag\n",
              "0   1  1303834   23  ...                3                13         0\n",
              "1   2  7574516   40  ...                9                13         0\n",
              "2   3  3991815   66  ...                4                10         0\n",
              "3   4  6256451   41  ...                2                12         1\n",
              "4   5  5768871   47  ...                3                14         1\n",
              "5   6  6915937   64  ...                0                12         0\n",
              "6   7  3954973   58  ...                8                12         0\n",
              "7   8  1706172   33  ...                2                14         0\n",
              "8   9  7566849   24  ...               11                11         0\n",
              "9  10  8964846   23  ...                5                13         0\n",
              "\n",
              "[10 rows x 13 columns]"
            ]
          },
          "metadata": {},
          "execution_count": 200
        }
      ]
    },
    {
      "cell_type": "code",
      "metadata": {
        "colab": {
          "base_uri": "https://localhost:8080/"
        },
        "id": "jQu84SVJ47kG",
        "outputId": "c67a5ffc-2830-4951-bb54-fbeda1b90cf8"
      },
      "source": [
        "train_df.shape"
      ],
      "execution_count": null,
      "outputs": [
        {
          "output_type": "execute_result",
          "data": {
            "text/plain": [
              "(252000, 13)"
            ]
          },
          "metadata": {},
          "execution_count": 201
        }
      ]
    },
    {
      "cell_type": "code",
      "metadata": {
        "colab": {
          "base_uri": "https://localhost:8080/"
        },
        "id": "SHk-o5LK3-iX",
        "outputId": "de7a4d56-0fe9-4615-8daa-983925d782de"
      },
      "source": [
        "train_df['CITY'].value_counts()"
      ],
      "execution_count": null,
      "outputs": [
        {
          "output_type": "execute_result",
          "data": {
            "text/plain": [
              "Vijayanagaram       1259\n",
              "Bhopal              1208\n",
              "Bulandshahr         1185\n",
              "Saharsa[29]         1180\n",
              "Vijayawada          1172\n",
              "                    ... \n",
              "Ujjain               486\n",
              "Warangal[11][12]     459\n",
              "Bettiah[33]          457\n",
              "Katni                448\n",
              "Karaikudi            431\n",
              "Name: CITY, Length: 317, dtype: int64"
            ]
          },
          "metadata": {},
          "execution_count": 202
        }
      ]
    },
    {
      "cell_type": "code",
      "metadata": {
        "colab": {
          "base_uri": "https://localhost:8080/"
        },
        "id": "Q0jGAmvU42Yg",
        "outputId": "df0656db-6b19-4183-f25b-5a17bb9ce138"
      },
      "source": [
        "train_df['STATE'].value_counts()"
      ],
      "execution_count": null,
      "outputs": [
        {
          "output_type": "execute_result",
          "data": {
            "text/plain": [
              "Uttar_Pradesh        28400\n",
              "Maharashtra          25562\n",
              "Andhra_Pradesh       25297\n",
              "West_Bengal          23483\n",
              "Bihar                19780\n",
              "Tamil_Nadu           16537\n",
              "Madhya_Pradesh       14122\n",
              "Karnataka            11855\n",
              "Gujarat              11408\n",
              "Rajasthan             9174\n",
              "Jharkhand             8965\n",
              "Haryana               7890\n",
              "Telangana             7524\n",
              "Assam                 7062\n",
              "Kerala                5805\n",
              "Delhi                 5490\n",
              "Punjab                4720\n",
              "Odisha                4658\n",
              "Chhattisgarh          3834\n",
              "Uttarakhand           1874\n",
              "Jammu_and_Kashmir     1780\n",
              "Puducherry            1433\n",
              "Mizoram                849\n",
              "Manipur                849\n",
              "Himachal_Pradesh       833\n",
              "Tripura                809\n",
              "Uttar_Pradesh[5]       743\n",
              "Chandigarh             656\n",
              "Sikkim                 608\n",
              "Name: STATE, dtype: int64"
            ]
          },
          "metadata": {},
          "execution_count": 203
        }
      ]
    },
    {
      "cell_type": "code",
      "metadata": {
        "colab": {
          "base_uri": "https://localhost:8080/"
        },
        "id": "eG5mj0rI5gj0",
        "outputId": "f7f49938-4a20-4ce8-b97e-d8e7baa215e8"
      },
      "source": [
        "train_df['Married/Single'].value_counts()"
      ],
      "execution_count": null,
      "outputs": [
        {
          "output_type": "execute_result",
          "data": {
            "text/plain": [
              "single     226272\n",
              "married     25728\n",
              "Name: Married/Single, dtype: int64"
            ]
          },
          "metadata": {},
          "execution_count": 204
        }
      ]
    },
    {
      "cell_type": "code",
      "metadata": {
        "colab": {
          "base_uri": "https://localhost:8080/"
        },
        "id": "dFq6e0uV5k0i",
        "outputId": "ceaaf405-cc7d-4d76-fc01-83a55bfca81f"
      },
      "source": [
        "train_df['House_Ownership'].value_counts()"
      ],
      "execution_count": null,
      "outputs": [
        {
          "output_type": "execute_result",
          "data": {
            "text/plain": [
              "rented          231898\n",
              "owned            12918\n",
              "norent_noown      7184\n",
              "Name: House_Ownership, dtype: int64"
            ]
          },
          "metadata": {},
          "execution_count": 205
        }
      ]
    },
    {
      "cell_type": "code",
      "metadata": {
        "colab": {
          "base_uri": "https://localhost:8080/"
        },
        "id": "GMsFwHO45sCz",
        "outputId": "828d1e27-e3f1-4930-cb53-9ac4fcaa09e6"
      },
      "source": [
        "train_df['Car_Ownership'].value_counts()"
      ],
      "execution_count": null,
      "outputs": [
        {
          "output_type": "execute_result",
          "data": {
            "text/plain": [
              "no     176000\n",
              "yes     76000\n",
              "Name: Car_Ownership, dtype: int64"
            ]
          },
          "metadata": {},
          "execution_count": 206
        }
      ]
    },
    {
      "cell_type": "code",
      "metadata": {
        "colab": {
          "base_uri": "https://localhost:8080/"
        },
        "id": "rII3Rzso79Oo",
        "outputId": "6f0d7db6-5b52-4604-ccac-a559cf3643c9"
      },
      "source": [
        "train_df['Risk_Flag'].value_counts()"
      ],
      "execution_count": null,
      "outputs": [
        {
          "output_type": "execute_result",
          "data": {
            "text/plain": [
              "0    221004\n",
              "1     30996\n",
              "Name: Risk_Flag, dtype: int64"
            ]
          },
          "metadata": {},
          "execution_count": 207
        }
      ]
    },
    {
      "cell_type": "code",
      "metadata": {
        "colab": {
          "base_uri": "https://localhost:8080/"
        },
        "id": "argDaMqc5zfz",
        "outputId": "0416d839-2db9-461c-f097-be47673dff1d"
      },
      "source": [
        "train_df['Profession'].value_counts()"
      ],
      "execution_count": null,
      "outputs": [
        {
          "output_type": "execute_result",
          "data": {
            "text/plain": [
              "Physician                     5957\n",
              "Statistician                  5806\n",
              "Web_designer                  5397\n",
              "Psychologist                  5390\n",
              "Computer_hardware_engineer    5372\n",
              "Drafter                       5359\n",
              "Magistrate                    5357\n",
              "Fashion_Designer              5304\n",
              "Air_traffic_controller        5281\n",
              "Comedian                      5259\n",
              "Industrial_Engineer           5250\n",
              "Mechanical_engineer           5217\n",
              "Chemical_engineer             5205\n",
              "Technical_writer              5195\n",
              "Hotel_Manager                 5178\n",
              "Financial_Analyst             5167\n",
              "Graphic_Designer              5166\n",
              "Flight_attendant              5128\n",
              "Biomedical_Engineer           5127\n",
              "Secretary                     5061\n",
              "Software_Developer            5053\n",
              "Petroleum_Engineer            5041\n",
              "Police_officer                5035\n",
              "Computer_operator             4990\n",
              "Politician                    4944\n",
              "Microbiologist                4881\n",
              "Technician                    4864\n",
              "Artist                        4861\n",
              "Lawyer                        4818\n",
              "Consultant                    4808\n",
              "Dentist                       4782\n",
              "Scientist                     4781\n",
              "Surgeon                       4772\n",
              "Aviator                       4758\n",
              "Technology_specialist         4737\n",
              "Design_Engineer               4729\n",
              "Surveyor                      4714\n",
              "Geologist                     4672\n",
              "Analyst                       4668\n",
              "Army_officer                  4661\n",
              "Architect                     4657\n",
              "Chef                          4635\n",
              "Librarian                     4628\n",
              "Civil_engineer                4616\n",
              "Designer                      4598\n",
              "Economist                     4573\n",
              "Firefighter                   4507\n",
              "Chartered_Accountant          4493\n",
              "Civil_servant                 4413\n",
              "Official                      4087\n",
              "Engineer                      4048\n",
              "Name: Profession, dtype: int64"
            ]
          },
          "metadata": {},
          "execution_count": 208
        }
      ]
    },
    {
      "cell_type": "code",
      "metadata": {
        "colab": {
          "base_uri": "https://localhost:8080/"
        },
        "id": "oM7UVXJ_6BaO",
        "outputId": "e72ce64e-0f18-4b4c-e697-67dc3c34e923"
      },
      "source": [
        "train_df['CURRENT_HOUSE_YRS'].value_counts()"
      ],
      "execution_count": null,
      "outputs": [
        {
          "output_type": "execute_result",
          "data": {
            "text/plain": [
              "11    51873\n",
              "12    51791\n",
              "13    50659\n",
              "14    49003\n",
              "10    48674\n",
              "Name: CURRENT_HOUSE_YRS, dtype: int64"
            ]
          },
          "metadata": {},
          "execution_count": 209
        }
      ]
    },
    {
      "cell_type": "code",
      "metadata": {
        "colab": {
          "base_uri": "https://localhost:8080/"
        },
        "id": "u44AICjp6VS0",
        "outputId": "5689d2ad-204e-4ae7-f3ec-01eb4a3d2247"
      },
      "source": [
        "train_df['CURRENT_JOB_YRS'].value_counts()"
      ],
      "execution_count": null,
      "outputs": [
        {
          "output_type": "execute_result",
          "data": {
            "text/plain": [
              "3     29460\n",
              "4     28339\n",
              "5     25091\n",
              "6     23491\n",
              "7     19925\n",
              "8     18874\n",
              "9     17132\n",
              "10    15768\n",
              "11    13595\n",
              "1     11575\n",
              "2     11087\n",
              "0     11043\n",
              "12    10605\n",
              "13     9099\n",
              "14     6916\n",
              "Name: CURRENT_JOB_YRS, dtype: int64"
            ]
          },
          "metadata": {},
          "execution_count": 210
        }
      ]
    },
    {
      "cell_type": "code",
      "metadata": {
        "colab": {
          "base_uri": "https://localhost:8080/",
          "height": 619
        },
        "id": "YJXx-FV38sib",
        "outputId": "0ca04c72-1be6-4355-e88a-f5e51dff4bec"
      },
      "source": [
        "columns=['Income']\n",
        "train_df.boxplot(column=columns  , figsize=(10,10))"
      ],
      "execution_count": null,
      "outputs": [
        {
          "output_type": "execute_result",
          "data": {
            "text/plain": [
              "<matplotlib.axes._subplots.AxesSubplot at 0x7fa51474fdd0>"
            ]
          },
          "metadata": {},
          "execution_count": 211
        },
        {
          "output_type": "display_data",
          "data": {
            "image/png": "[encoded data removed]",
            "text/plain": [
              "<Figure size 720x720 with 1 Axes>"
            ]
          },
          "metadata": {
            "needs_background": "light"
          }
        }
      ]
    },
    {
      "cell_type": "code",
      "metadata": {
        "id": "L4b9GRqa80HZ"
      },
      "source": [
        "train_df['low_experience'] = np.where((train_df['CURRENT_JOB_YRS'] >= 1) & (train_df['CURRENT_JOB_YRS'] <= 5) , 1, 0)\n",
        "train_df['med_experience'] = np.where((train_df['CURRENT_JOB_YRS'] >= 6) & (train_df['CURRENT_JOB_YRS'] <= 10) , 1, 0)\n",
        "train_df['high_experience'] = np.where((train_df['CURRENT_JOB_YRS'] >= 11) & (train_df['CURRENT_JOB_YRS'] <= 14) , 1, 0)\n"
      ],
      "execution_count": null,
      "outputs": []
    },
    {
      "cell_type": "code",
      "metadata": {
        "colab": {
          "base_uri": "https://localhost:8080/",
          "height": 223
        },
        "id": "Z56I3RSG-yDI",
        "outputId": "36553d20-4894-4bbc-f953-dfb47046dff1"
      },
      "source": [
        "train_df.head()"
      ],
      "execution_count": null,
      "outputs": [
        {
          "output_type": "execute_result",
          "data": {
            "text/html": [
              "<div>\n",
              "<style scoped>\n",
              "    .dataframe tbody tr th:only-of-type {\n",
              "        vertical-align: middle;\n",
              "    }\n",
              "\n",
              "    .dataframe tbody tr th {\n",
              "        vertical-align: top;\n",
              "    }\n",
              "\n",
              "    .dataframe thead th {\n",
              "        text-align: right;\n",
              "    }\n",
              "</style>\n",
              "<table border=\"1\" class=\"dataframe\">\n",
              "  <thead>\n",
              "    <tr style=\"text-align: right;\">\n",
              "      <th></th>\n",
              "      <th>Id</th>\n",
              "      <th>Income</th>\n",
              "      <th>Age</th>\n",
              "      <th>Experience</th>\n",
              "      <th>Married/Single</th>\n",
              "      <th>House_Ownership</th>\n",
              "      <th>Car_Ownership</th>\n",
              "      <th>Profession</th>\n",
              "      <th>CITY</th>\n",
              "      <th>STATE</th>\n",
              "      <th>CURRENT_JOB_YRS</th>\n",
              "      <th>CURRENT_HOUSE_YRS</th>\n",
              "      <th>Risk_Flag</th>\n",
              "      <th>low_experience</th>\n",
              "      <th>med_experience</th>\n",
              "      <th>high_experience</th>\n",
              "    </tr>\n",
              "  </thead>\n",
              "  <tbody>\n",
              "    <tr>\n",
              "      <th>0</th>\n",
              "      <td>1</td>\n",
              "      <td>1303834</td>\n",
              "      <td>23</td>\n",
              "      <td>3</td>\n",
              "      <td>single</td>\n",
              "      <td>rented</td>\n",
              "      <td>no</td>\n",
              "      <td>Mechanical_engineer</td>\n",
              "      <td>Rewa</td>\n",
              "      <td>Madhya_Pradesh</td>\n",
              "      <td>3</td>\n",
              "      <td>13</td>\n",
              "      <td>0</td>\n",
              "      <td>1</td>\n",
              "      <td>0</td>\n",
              "      <td>0</td>\n",
              "    </tr>\n",
              "    <tr>\n",
              "      <th>1</th>\n",
              "      <td>2</td>\n",
              "      <td>7574516</td>\n",
              "      <td>40</td>\n",
              "      <td>10</td>\n",
              "      <td>single</td>\n",
              "      <td>rented</td>\n",
              "      <td>no</td>\n",
              "      <td>Software_Developer</td>\n",
              "      <td>Parbhani</td>\n",
              "      <td>Maharashtra</td>\n",
              "      <td>9</td>\n",
              "      <td>13</td>\n",
              "      <td>0</td>\n",
              "      <td>0</td>\n",
              "      <td>1</td>\n",
              "      <td>0</td>\n",
              "    </tr>\n",
              "    <tr>\n",
              "      <th>2</th>\n",
              "      <td>3</td>\n",
              "      <td>3991815</td>\n",
              "      <td>66</td>\n",
              "      <td>4</td>\n",
              "      <td>married</td>\n",
              "      <td>rented</td>\n",
              "      <td>no</td>\n",
              "      <td>Technical_writer</td>\n",
              "      <td>Alappuzha</td>\n",
              "      <td>Kerala</td>\n",
              "      <td>4</td>\n",
              "      <td>10</td>\n",
              "      <td>0</td>\n",
              "      <td>1</td>\n",
              "      <td>0</td>\n",
              "      <td>0</td>\n",
              "    </tr>\n",
              "    <tr>\n",
              "      <th>3</th>\n",
              "      <td>4</td>\n",
              "      <td>6256451</td>\n",
              "      <td>41</td>\n",
              "      <td>2</td>\n",
              "      <td>single</td>\n",
              "      <td>rented</td>\n",
              "      <td>yes</td>\n",
              "      <td>Software_Developer</td>\n",
              "      <td>Bhubaneswar</td>\n",
              "      <td>Odisha</td>\n",
              "      <td>2</td>\n",
              "      <td>12</td>\n",
              "      <td>1</td>\n",
              "      <td>1</td>\n",
              "      <td>0</td>\n",
              "      <td>0</td>\n",
              "    </tr>\n",
              "    <tr>\n",
              "      <th>4</th>\n",
              "      <td>5</td>\n",
              "      <td>5768871</td>\n",
              "      <td>47</td>\n",
              "      <td>11</td>\n",
              "      <td>single</td>\n",
              "      <td>rented</td>\n",
              "      <td>no</td>\n",
              "      <td>Civil_servant</td>\n",
              "      <td>Tiruchirappalli[10]</td>\n",
              "      <td>Tamil_Nadu</td>\n",
              "      <td>3</td>\n",
              "      <td>14</td>\n",
              "      <td>1</td>\n",
              "      <td>1</td>\n",
              "      <td>0</td>\n",
              "      <td>0</td>\n",
              "    </tr>\n",
              "  </tbody>\n",
              "</table>\n",
              "</div>"
            ],
            "text/plain": [
              "   Id   Income  Age  ...  low_experience med_experience high_experience\n",
              "0   1  1303834   23  ...               1              0               0\n",
              "1   2  7574516   40  ...               0              1               0\n",
              "2   3  3991815   66  ...               1              0               0\n",
              "3   4  6256451   41  ...               1              0               0\n",
              "4   5  5768871   47  ...               1              0               0\n",
              "\n",
              "[5 rows x 16 columns]"
            ]
          },
          "metadata": {},
          "execution_count": 213
        }
      ]
    },
    {
      "cell_type": "code",
      "metadata": {
        "colab": {
          "base_uri": "https://localhost:8080/"
        },
        "id": "F70ePrGk-2bn",
        "outputId": "2cfc586e-c38a-44d2-8551-93f8b041cb9f"
      },
      "source": [
        "relation_state = train_df[['Married/Single']]\n",
        "\n",
        "from sklearn.preprocessing import OneHotEncoder\n",
        "cat_encoder = OneHotEncoder(sparse=False)\n",
        "rela_st = cat_encoder.fit_transform(relation_state)\n",
        "rela_st"
      ],
      "execution_count": null,
      "outputs": [
        {
          "output_type": "execute_result",
          "data": {
            "text/plain": [
              "array([[0., 1.],\n",
              "       [0., 1.],\n",
              "       [1., 0.],\n",
              "       ...,\n",
              "       [0., 1.],\n",
              "       [0., 1.],\n",
              "       [0., 1.]])"
            ]
          },
          "metadata": {},
          "execution_count": 214
        }
      ]
    },
    {
      "cell_type": "code",
      "metadata": {
        "colab": {
          "base_uri": "https://localhost:8080/"
        },
        "id": "rwEVHW86C6ju",
        "outputId": "533bcf0f-b680-44f2-8c5f-fd48533bcee1"
      },
      "source": [
        "cat_encoder.categories_"
      ],
      "execution_count": null,
      "outputs": [
        {
          "output_type": "execute_result",
          "data": {
            "text/plain": [
              "[array(['married', 'single'], dtype=object)]"
            ]
          },
          "metadata": {},
          "execution_count": 215
        }
      ]
    },
    {
      "cell_type": "code",
      "metadata": {
        "id": "CPKmWmCFDJLh"
      },
      "source": [
        "state_coded = pd.DataFrame(rela_st , columns=['married', 'single'])\n",
        "train_df=pd.concat([train_df,state_coded] , axis=1)"
      ],
      "execution_count": null,
      "outputs": []
    },
    {
      "cell_type": "code",
      "metadata": {
        "colab": {
          "base_uri": "https://localhost:8080/",
          "height": 223
        },
        "id": "LjB-Cjw6Dmt9",
        "outputId": "361ab05f-d203-4c16-d8ed-ef5b90873372"
      },
      "source": [
        "train_df.head()"
      ],
      "execution_count": null,
      "outputs": [
        {
          "output_type": "execute_result",
          "data": {
            "text/html": [
              "<div>\n",
              "<style scoped>\n",
              "    .dataframe tbody tr th:only-of-type {\n",
              "        vertical-align: middle;\n",
              "    }\n",
              "\n",
              "    .dataframe tbody tr th {\n",
              "        vertical-align: top;\n",
              "    }\n",
              "\n",
              "    .dataframe thead th {\n",
              "        text-align: right;\n",
              "    }\n",
              "</style>\n",
              "<table border=\"1\" class=\"dataframe\">\n",
              "  <thead>\n",
              "    <tr style=\"text-align: right;\">\n",
              "      <th></th>\n",
              "      <th>Id</th>\n",
              "      <th>Income</th>\n",
              "      <th>Age</th>\n",
              "      <th>Experience</th>\n",
              "      <th>Married/Single</th>\n",
              "      <th>House_Ownership</th>\n",
              "      <th>Car_Ownership</th>\n",
              "      <th>Profession</th>\n",
              "      <th>CITY</th>\n",
              "      <th>STATE</th>\n",
              "      <th>CURRENT_JOB_YRS</th>\n",
              "      <th>CURRENT_HOUSE_YRS</th>\n",
              "      <th>Risk_Flag</th>\n",
              "      <th>low_experience</th>\n",
              "      <th>med_experience</th>\n",
              "      <th>high_experience</th>\n",
              "      <th>married</th>\n",
              "      <th>single</th>\n",
              "    </tr>\n",
              "  </thead>\n",
              "  <tbody>\n",
              "    <tr>\n",
              "      <th>0</th>\n",
              "      <td>1</td>\n",
              "      <td>1303834</td>\n",
              "      <td>23</td>\n",
              "      <td>3</td>\n",
              "      <td>single</td>\n",
              "      <td>rented</td>\n",
              "      <td>no</td>\n",
              "      <td>Mechanical_engineer</td>\n",
              "      <td>Rewa</td>\n",
              "      <td>Madhya_Pradesh</td>\n",
              "      <td>3</td>\n",
              "      <td>13</td>\n",
              "      <td>0</td>\n",
              "      <td>1</td>\n",
              "      <td>0</td>\n",
              "      <td>0</td>\n",
              "      <td>0.0</td>\n",
              "      <td>1.0</td>\n",
              "    </tr>\n",
              "    <tr>\n",
              "      <th>1</th>\n",
              "      <td>2</td>\n",
              "      <td>7574516</td>\n",
              "      <td>40</td>\n",
              "      <td>10</td>\n",
              "      <td>single</td>\n",
              "      <td>rented</td>\n",
              "      <td>no</td>\n",
              "      <td>Software_Developer</td>\n",
              "      <td>Parbhani</td>\n",
              "      <td>Maharashtra</td>\n",
              "      <td>9</td>\n",
              "      <td>13</td>\n",
              "      <td>0</td>\n",
              "      <td>0</td>\n",
              "      <td>1</td>\n",
              "      <td>0</td>\n",
              "      <td>0.0</td>\n",
              "      <td>1.0</td>\n",
              "    </tr>\n",
              "    <tr>\n",
              "      <th>2</th>\n",
              "      <td>3</td>\n",
              "      <td>3991815</td>\n",
              "      <td>66</td>\n",
              "      <td>4</td>\n",
              "      <td>married</td>\n",
              "      <td>rented</td>\n",
              "      <td>no</td>\n",
              "      <td>Technical_writer</td>\n",
              "      <td>Alappuzha</td>\n",
              "      <td>Kerala</td>\n",
              "      <td>4</td>\n",
              "      <td>10</td>\n",
              "      <td>0</td>\n",
              "      <td>1</td>\n",
              "      <td>0</td>\n",
              "      <td>0</td>\n",
              "      <td>1.0</td>\n",
              "      <td>0.0</td>\n",
              "    </tr>\n",
              "    <tr>\n",
              "      <th>3</th>\n",
              "      <td>4</td>\n",
              "      <td>6256451</td>\n",
              "      <td>41</td>\n",
              "      <td>2</td>\n",
              "      <td>single</td>\n",
              "      <td>rented</td>\n",
              "      <td>yes</td>\n",
              "      <td>Software_Developer</td>\n",
              "      <td>Bhubaneswar</td>\n",
              "      <td>Odisha</td>\n",
              "      <td>2</td>\n",
              "      <td>12</td>\n",
              "      <td>1</td>\n",
              "      <td>1</td>\n",
              "      <td>0</td>\n",
              "      <td>0</td>\n",
              "      <td>0.0</td>\n",
              "      <td>1.0</td>\n",
              "    </tr>\n",
              "    <tr>\n",
              "      <th>4</th>\n",
              "      <td>5</td>\n",
              "      <td>5768871</td>\n",
              "      <td>47</td>\n",
              "      <td>11</td>\n",
              "      <td>single</td>\n",
              "      <td>rented</td>\n",
              "      <td>no</td>\n",
              "      <td>Civil_servant</td>\n",
              "      <td>Tiruchirappalli[10]</td>\n",
              "      <td>Tamil_Nadu</td>\n",
              "      <td>3</td>\n",
              "      <td>14</td>\n",
              "      <td>1</td>\n",
              "      <td>1</td>\n",
              "      <td>0</td>\n",
              "      <td>0</td>\n",
              "      <td>0.0</td>\n",
              "      <td>1.0</td>\n",
              "    </tr>\n",
              "  </tbody>\n",
              "</table>\n",
              "</div>"
            ],
            "text/plain": [
              "   Id   Income  Age  ...  high_experience married single\n",
              "0   1  1303834   23  ...                0     0.0    1.0\n",
              "1   2  7574516   40  ...                0     0.0    1.0\n",
              "2   3  3991815   66  ...                0     1.0    0.0\n",
              "3   4  6256451   41  ...                0     0.0    1.0\n",
              "4   5  5768871   47  ...                0     0.0    1.0\n",
              "\n",
              "[5 rows x 18 columns]"
            ]
          },
          "metadata": {},
          "execution_count": 217
        }
      ]
    },
    {
      "cell_type": "code",
      "metadata": {
        "id": "1jI59gHRDq0e"
      },
      "source": [
        "car_owner = { 'yes' : 1 , 'no' : 0 }\n",
        "train_df['Car_Ownership'] = train_df['Car_Ownership'].replace(car_owner)"
      ],
      "execution_count": null,
      "outputs": []
    },
    {
      "cell_type": "code",
      "metadata": {
        "colab": {
          "base_uri": "https://localhost:8080/"
        },
        "id": "7ksTlZJREPYL",
        "outputId": "d4e5a349-aee3-4a20-ac8a-0fa9204a8069"
      },
      "source": [
        "house_owner = train_df[['House_Ownership']]\n",
        "cat_encoder = OneHotEncoder(sparse=False)\n",
        "h_o_cat = cat_encoder.fit_transform(house_owner)\n",
        "h_o_cat"
      ],
      "execution_count": null,
      "outputs": [
        {
          "output_type": "execute_result",
          "data": {
            "text/plain": [
              "array([[0., 0., 1.],\n",
              "       [0., 0., 1.],\n",
              "       [0., 0., 1.],\n",
              "       ...,\n",
              "       [0., 0., 1.],\n",
              "       [0., 0., 1.],\n",
              "       [0., 0., 1.]])"
            ]
          },
          "metadata": {},
          "execution_count": 219
        }
      ]
    },
    {
      "cell_type": "code",
      "metadata": {
        "colab": {
          "base_uri": "https://localhost:8080/"
        },
        "id": "EjpjgQhQE4BD",
        "outputId": "f882f325-5055-41f0-fb1c-1ebcce2887c1"
      },
      "source": [
        "cat_encoder.categories_"
      ],
      "execution_count": null,
      "outputs": [
        {
          "output_type": "execute_result",
          "data": {
            "text/plain": [
              "[array(['norent_noown', 'owned', 'rented'], dtype=object)]"
            ]
          },
          "metadata": {},
          "execution_count": 220
        }
      ]
    },
    {
      "cell_type": "code",
      "metadata": {
        "id": "_D6Chep9E8hK"
      },
      "source": [
        "ho_hot_encoded = pd.DataFrame(h_o_cat , columns=['norent_noown', 'owned', 'rented'])\n",
        "train_df = pd.concat([train_df , ho_hot_encoded] , axis=1)"
      ],
      "execution_count": null,
      "outputs": []
    },
    {
      "cell_type": "code",
      "metadata": {
        "colab": {
          "base_uri": "https://localhost:8080/",
          "height": 223
        },
        "id": "o3BGG3vyFW1K",
        "outputId": "badc956b-1443-44f4-a70c-05daba654fbc"
      },
      "source": [
        "train_df.head()"
      ],
      "execution_count": null,
      "outputs": [
        {
          "output_type": "execute_result",
          "data": {
            "text/html": [
              "<div>\n",
              "<style scoped>\n",
              "    .dataframe tbody tr th:only-of-type {\n",
              "        vertical-align: middle;\n",
              "    }\n",
              "\n",
              "    .dataframe tbody tr th {\n",
              "        vertical-align: top;\n",
              "    }\n",
              "\n",
              "    .dataframe thead th {\n",
              "        text-align: right;\n",
              "    }\n",
              "</style>\n",
              "<table border=\"1\" class=\"dataframe\">\n",
              "  <thead>\n",
              "    <tr style=\"text-align: right;\">\n",
              "      <th></th>\n",
              "      <th>Id</th>\n",
              "      <th>Income</th>\n",
              "      <th>Age</th>\n",
              "      <th>Experience</th>\n",
              "      <th>Married/Single</th>\n",
              "      <th>House_Ownership</th>\n",
              "      <th>Car_Ownership</th>\n",
              "      <th>Profession</th>\n",
              "      <th>CITY</th>\n",
              "      <th>STATE</th>\n",
              "      <th>CURRENT_JOB_YRS</th>\n",
              "      <th>CURRENT_HOUSE_YRS</th>\n",
              "      <th>Risk_Flag</th>\n",
              "      <th>low_experience</th>\n",
              "      <th>med_experience</th>\n",
              "      <th>high_experience</th>\n",
              "      <th>married</th>\n",
              "      <th>single</th>\n",
              "      <th>norent_noown</th>\n",
              "      <th>owned</th>\n",
              "      <th>rented</th>\n",
              "    </tr>\n",
              "  </thead>\n",
              "  <tbody>\n",
              "    <tr>\n",
              "      <th>0</th>\n",
              "      <td>1</td>\n",
              "      <td>1303834</td>\n",
              "      <td>23</td>\n",
              "      <td>3</td>\n",
              "      <td>single</td>\n",
              "      <td>rented</td>\n",
              "      <td>0</td>\n",
              "      <td>Mechanical_engineer</td>\n",
              "      <td>Rewa</td>\n",
              "      <td>Madhya_Pradesh</td>\n",
              "      <td>3</td>\n",
              "      <td>13</td>\n",
              "      <td>0</td>\n",
              "      <td>1</td>\n",
              "      <td>0</td>\n",
              "      <td>0</td>\n",
              "      <td>0.0</td>\n",
              "      <td>1.0</td>\n",
              "      <td>0.0</td>\n",
              "      <td>0.0</td>\n",
              "      <td>1.0</td>\n",
              "    </tr>\n",
              "    <tr>\n",
              "      <th>1</th>\n",
              "      <td>2</td>\n",
              "      <td>7574516</td>\n",
              "      <td>40</td>\n",
              "      <td>10</td>\n",
              "      <td>single</td>\n",
              "      <td>rented</td>\n",
              "      <td>0</td>\n",
              "      <td>Software_Developer</td>\n",
              "      <td>Parbhani</td>\n",
              "      <td>Maharashtra</td>\n",
              "      <td>9</td>\n",
              "      <td>13</td>\n",
              "      <td>0</td>\n",
              "      <td>0</td>\n",
              "      <td>1</td>\n",
              "      <td>0</td>\n",
              "      <td>0.0</td>\n",
              "      <td>1.0</td>\n",
              "      <td>0.0</td>\n",
              "      <td>0.0</td>\n",
              "      <td>1.0</td>\n",
              "    </tr>\n",
              "    <tr>\n",
              "      <th>2</th>\n",
              "      <td>3</td>\n",
              "      <td>3991815</td>\n",
              "      <td>66</td>\n",
              "      <td>4</td>\n",
              "      <td>married</td>\n",
              "      <td>rented</td>\n",
              "      <td>0</td>\n",
              "      <td>Technical_writer</td>\n",
              "      <td>Alappuzha</td>\n",
              "      <td>Kerala</td>\n",
              "      <td>4</td>\n",
              "      <td>10</td>\n",
              "      <td>0</td>\n",
              "      <td>1</td>\n",
              "      <td>0</td>\n",
              "      <td>0</td>\n",
              "      <td>1.0</td>\n",
              "      <td>0.0</td>\n",
              "      <td>0.0</td>\n",
              "      <td>0.0</td>\n",
              "      <td>1.0</td>\n",
              "    </tr>\n",
              "    <tr>\n",
              "      <th>3</th>\n",
              "      <td>4</td>\n",
              "      <td>6256451</td>\n",
              "      <td>41</td>\n",
              "      <td>2</td>\n",
              "      <td>single</td>\n",
              "      <td>rented</td>\n",
              "      <td>1</td>\n",
              "      <td>Software_Developer</td>\n",
              "      <td>Bhubaneswar</td>\n",
              "      <td>Odisha</td>\n",
              "      <td>2</td>\n",
              "      <td>12</td>\n",
              "      <td>1</td>\n",
              "      <td>1</td>\n",
              "      <td>0</td>\n",
              "      <td>0</td>\n",
              "      <td>0.0</td>\n",
              "      <td>1.0</td>\n",
              "      <td>0.0</td>\n",
              "      <td>0.0</td>\n",
              "      <td>1.0</td>\n",
              "    </tr>\n",
              "    <tr>\n",
              "      <th>4</th>\n",
              "      <td>5</td>\n",
              "      <td>5768871</td>\n",
              "      <td>47</td>\n",
              "      <td>11</td>\n",
              "      <td>single</td>\n",
              "      <td>rented</td>\n",
              "      <td>0</td>\n",
              "      <td>Civil_servant</td>\n",
              "      <td>Tiruchirappalli[10]</td>\n",
              "      <td>Tamil_Nadu</td>\n",
              "      <td>3</td>\n",
              "      <td>14</td>\n",
              "      <td>1</td>\n",
              "      <td>1</td>\n",
              "      <td>0</td>\n",
              "      <td>0</td>\n",
              "      <td>0.0</td>\n",
              "      <td>1.0</td>\n",
              "      <td>0.0</td>\n",
              "      <td>0.0</td>\n",
              "      <td>1.0</td>\n",
              "    </tr>\n",
              "  </tbody>\n",
              "</table>\n",
              "</div>"
            ],
            "text/plain": [
              "   Id   Income  Age  Experience  ... single norent_noown  owned rented\n",
              "0   1  1303834   23           3  ...    1.0          0.0    0.0    1.0\n",
              "1   2  7574516   40          10  ...    1.0          0.0    0.0    1.0\n",
              "2   3  3991815   66           4  ...    0.0          0.0    0.0    1.0\n",
              "3   4  6256451   41           2  ...    1.0          0.0    0.0    1.0\n",
              "4   5  5768871   47          11  ...    1.0          0.0    0.0    1.0\n",
              "\n",
              "[5 rows x 21 columns]"
            ]
          },
          "metadata": {},
          "execution_count": 222
        }
      ]
    },
    {
      "cell_type": "code",
      "metadata": {
        "id": "sJe6928DCRxs"
      },
      "source": [
        "relation_state = train_df[['Profession']]\n",
        "\n",
        "from sklearn.preprocessing import OneHotEncoder\n",
        "cat_encoder = OneHotEncoder(sparse=False)\n",
        "rela_st = cat_encoder.fit_transform(relation_state)\n"
      ],
      "execution_count": null,
      "outputs": []
    },
    {
      "cell_type": "code",
      "metadata": {
        "id": "e5Biy8BL8qAs"
      },
      "source": [
        "m = cat_encoder.categories_\n"
      ],
      "execution_count": null,
      "outputs": []
    },
    {
      "cell_type": "code",
      "metadata": {
        "colab": {
          "base_uri": "https://localhost:8080/"
        },
        "id": "tjJXot5_9cXv",
        "outputId": "f1519d8e-b82e-408c-a91d-79d1bce723ed"
      },
      "source": [
        "print(m)"
      ],
      "execution_count": null,
      "outputs": [
        {
          "output_type": "stream",
          "name": "stdout",
          "text": [
            "[array(['Air_traffic_controller', 'Analyst', 'Architect', 'Army_officer',\n",
            "       'Artist', 'Aviator', 'Biomedical_Engineer', 'Chartered_Accountant',\n",
            "       'Chef', 'Chemical_engineer', 'Civil_engineer', 'Civil_servant',\n",
            "       'Comedian', 'Computer_hardware_engineer', 'Computer_operator',\n",
            "       'Consultant', 'Dentist', 'Design_Engineer', 'Designer', 'Drafter',\n",
            "       'Economist', 'Engineer', 'Fashion_Designer', 'Financial_Analyst',\n",
            "       'Firefighter', 'Flight_attendant', 'Geologist', 'Graphic_Designer',\n",
            "       'Hotel_Manager', 'Industrial_Engineer', 'Lawyer', 'Librarian',\n",
            "       'Magistrate', 'Mechanical_engineer', 'Microbiologist', 'Official',\n",
            "       'Petroleum_Engineer', 'Physician', 'Police_officer', 'Politician',\n",
            "       'Psychologist', 'Scientist', 'Secretary', 'Software_Developer',\n",
            "       'Statistician', 'Surgeon', 'Surveyor', 'Technical_writer',\n",
            "       'Technician', 'Technology_specialist', 'Web_designer'],\n",
            "      dtype=object)]\n"
          ]
        }
      ]
    },
    {
      "cell_type": "code",
      "metadata": {
        "id": "bFm2qng7CR8C"
      },
      "source": [
        "state_coded = pd.DataFrame(rela_st , columns=['Air_traffic_controller', 'Analyst', 'Architect', 'Army_officer',\n",
        "       'Artist', 'Aviator', 'Biomedical_Engineer', 'Chartered_Accountant',\n",
        "       'Chef', 'Chemical_engineer', 'Civil_engineer', 'Civil_servant',\n",
        "       'Comedian', 'Computer_hardware_engineer', 'Computer_operator',\n",
        "       'Consultant', 'Dentist', 'Design_Engineer', 'Designer', 'Drafter',\n",
        "       'Economist', 'Engineer', 'Fashion_Designer', 'Financial_Analyst',\n",
        "       'Firefighter', 'Flight_attendant', 'Geologist', 'Graphic_Designer',\n",
        "       'Hotel_Manager', 'Industrial_Engineer', 'Lawyer', 'Librarian',\n",
        "       'Magistrate', 'Mechanical_engineer', 'Microbiologist', 'Official',\n",
        "       'Petroleum_Engineer', 'Physician', 'Police_officer', 'Politician',\n",
        "       'Psychologist', 'Scientist', 'Secretary', 'Software_Developer',\n",
        "       'Statistician', 'Surgeon', 'Surveyor', 'Technical_writer',\n",
        "       'Technician', 'Technology_specialist', 'Web_designer'])\n",
        "train_df=pd.concat([train_df,state_coded] , axis=1)"
      ],
      "execution_count": null,
      "outputs": []
    },
    {
      "cell_type": "code",
      "metadata": {
        "id": "d7t45L0KFYeF"
      },
      "source": [
        "columns_to_be_deleted = ['Id','Married/Single' , 'House_Ownership' , 'Profession' ,  'CITY' , 'STATE' ]\n",
        "for i in columns_to_be_deleted:\n",
        "  train_df.drop( i , axis=1 , inplace=True)"
      ],
      "execution_count": null,
      "outputs": []
    },
    {
      "cell_type": "code",
      "metadata": {
        "id": "zS11TnHSCyM0"
      },
      "source": [
        "oversample = SMOTE()\n"
      ],
      "execution_count": null,
      "outputs": []
    },
    {
      "cell_type": "code",
      "metadata": {
        "id": "4yBQEqjCa9Vq"
      },
      "source": [
        ""
      ],
      "execution_count": null,
      "outputs": []
    },
    {
      "cell_type": "code",
      "metadata": {
        "id": "_PajaBlia9YR"
      },
      "source": [
        ""
      ],
      "execution_count": null,
      "outputs": []
    },
    {
      "cell_type": "code",
      "metadata": {
        "id": "cx2djxxka9ax"
      },
      "source": [
        ""
      ],
      "execution_count": null,
      "outputs": []
    },
    {
      "cell_type": "code",
      "metadata": {
        "colab": {
          "base_uri": "https://localhost:8080/",
          "height": 223
        },
        "id": "lNarN57TGiI-",
        "outputId": "a85ace9a-faed-4c55-dbf7-1492f21e3f64"
      },
      "source": [
        "train_df.head()"
      ],
      "execution_count": null,
      "outputs": [
        {
          "output_type": "execute_result",
          "data": {
            "text/html": [
              "<div>\n",
              "<style scoped>\n",
              "    .dataframe tbody tr th:only-of-type {\n",
              "        vertical-align: middle;\n",
              "    }\n",
              "\n",
              "    .dataframe tbody tr th {\n",
              "        vertical-align: top;\n",
              "    }\n",
              "\n",
              "    .dataframe thead th {\n",
              "        text-align: right;\n",
              "    }\n",
              "</style>\n",
              "<table border=\"1\" class=\"dataframe\">\n",
              "  <thead>\n",
              "    <tr style=\"text-align: right;\">\n",
              "      <th></th>\n",
              "      <th>Income</th>\n",
              "      <th>Age</th>\n",
              "      <th>Experience</th>\n",
              "      <th>Car_Ownership</th>\n",
              "      <th>CURRENT_JOB_YRS</th>\n",
              "      <th>CURRENT_HOUSE_YRS</th>\n",
              "      <th>Risk_Flag</th>\n",
              "      <th>low_experience</th>\n",
              "      <th>med_experience</th>\n",
              "      <th>high_experience</th>\n",
              "      <th>married</th>\n",
              "      <th>single</th>\n",
              "      <th>norent_noown</th>\n",
              "      <th>owned</th>\n",
              "      <th>rented</th>\n",
              "      <th>Air_traffic_controller</th>\n",
              "      <th>Analyst</th>\n",
              "      <th>Architect</th>\n",
              "      <th>Army_officer</th>\n",
              "      <th>Artist</th>\n",
              "      <th>Aviator</th>\n",
              "      <th>Biomedical_Engineer</th>\n",
              "      <th>Chartered_Accountant</th>\n",
              "      <th>Chef</th>\n",
              "      <th>Chemical_engineer</th>\n",
              "      <th>Civil_engineer</th>\n",
              "      <th>Civil_servant</th>\n",
              "      <th>Comedian</th>\n",
              "      <th>Computer_hardware_engineer</th>\n",
              "      <th>Computer_operator</th>\n",
              "      <th>Consultant</th>\n",
              "      <th>Dentist</th>\n",
              "      <th>Design_Engineer</th>\n",
              "      <th>Designer</th>\n",
              "      <th>Drafter</th>\n",
              "      <th>Economist</th>\n",
              "      <th>Engineer</th>\n",
              "      <th>Fashion_Designer</th>\n",
              "      <th>Financial_Analyst</th>\n",
              "      <th>Firefighter</th>\n",
              "      <th>Flight_attendant</th>\n",
              "      <th>Geologist</th>\n",
              "      <th>Graphic_Designer</th>\n",
              "      <th>Hotel_Manager</th>\n",
              "      <th>Industrial_Engineer</th>\n",
              "      <th>Lawyer</th>\n",
              "      <th>Librarian</th>\n",
              "      <th>Magistrate</th>\n",
              "      <th>Mechanical_engineer</th>\n",
              "      <th>Microbiologist</th>\n",
              "      <th>Official</th>\n",
              "      <th>Petroleum_Engineer</th>\n",
              "      <th>Physician</th>\n",
              "      <th>Police_officer</th>\n",
              "      <th>Politician</th>\n",
              "      <th>Psychologist</th>\n",
              "      <th>Scientist</th>\n",
              "      <th>Secretary</th>\n",
              "      <th>Software_Developer</th>\n",
              "      <th>Statistician</th>\n",
              "      <th>Surgeon</th>\n",
              "      <th>Surveyor</th>\n",
              "      <th>Technical_writer</th>\n",
              "      <th>Technician</th>\n",
              "      <th>Technology_specialist</th>\n",
              "      <th>Web_designer</th>\n",
              "    </tr>\n",
              "  </thead>\n",
              "  <tbody>\n",
              "    <tr>\n",
              "      <th>0</th>\n",
              "      <td>1303834</td>\n",
              "      <td>23</td>\n",
              "      <td>3</td>\n",
              "      <td>0</td>\n",
              "      <td>3</td>\n",
              "      <td>13</td>\n",
              "      <td>0</td>\n",
              "      <td>1</td>\n",
              "      <td>0</td>\n",
              "      <td>0</td>\n",
              "      <td>0.0</td>\n",
              "      <td>1.0</td>\n",
              "      <td>0.0</td>\n",
              "      <td>0.0</td>\n",
              "      <td>1.0</td>\n",
              "      <td>0.0</td>\n",
              "      <td>0.0</td>\n",
              "      <td>0.0</td>\n",
              "      <td>0.0</td>\n",
              "      <td>0.0</td>\n",
              "      <td>0.0</td>\n",
              "      <td>0.0</td>\n",
              "      <td>0.0</td>\n",
              "      <td>0.0</td>\n",
              "      <td>0.0</td>\n",
              "      <td>0.0</td>\n",
              "      <td>0.0</td>\n",
              "      <td>0.0</td>\n",
              "      <td>0.0</td>\n",
              "      <td>0.0</td>\n",
              "      <td>0.0</td>\n",
              "      <td>0.0</td>\n",
              "      <td>0.0</td>\n",
              "      <td>0.0</td>\n",
              "      <td>0.0</td>\n",
              "      <td>0.0</td>\n",
              "      <td>0.0</td>\n",
              "      <td>0.0</td>\n",
              "      <td>0.0</td>\n",
              "      <td>0.0</td>\n",
              "      <td>0.0</td>\n",
              "      <td>0.0</td>\n",
              "      <td>0.0</td>\n",
              "      <td>0.0</td>\n",
              "      <td>0.0</td>\n",
              "      <td>0.0</td>\n",
              "      <td>0.0</td>\n",
              "      <td>0.0</td>\n",
              "      <td>1.0</td>\n",
              "      <td>0.0</td>\n",
              "      <td>0.0</td>\n",
              "      <td>0.0</td>\n",
              "      <td>0.0</td>\n",
              "      <td>0.0</td>\n",
              "      <td>0.0</td>\n",
              "      <td>0.0</td>\n",
              "      <td>0.0</td>\n",
              "      <td>0.0</td>\n",
              "      <td>0.0</td>\n",
              "      <td>0.0</td>\n",
              "      <td>0.0</td>\n",
              "      <td>0.0</td>\n",
              "      <td>0.0</td>\n",
              "      <td>0.0</td>\n",
              "      <td>0.0</td>\n",
              "      <td>0.0</td>\n",
              "    </tr>\n",
              "    <tr>\n",
              "      <th>1</th>\n",
              "      <td>7574516</td>\n",
              "      <td>40</td>\n",
              "      <td>10</td>\n",
              "      <td>0</td>\n",
              "      <td>9</td>\n",
              "      <td>13</td>\n",
              "      <td>0</td>\n",
              "      <td>0</td>\n",
              "      <td>1</td>\n",
              "      <td>0</td>\n",
              "      <td>0.0</td>\n",
              "      <td>1.0</td>\n",
              "      <td>0.0</td>\n",
              "      <td>0.0</td>\n",
              "      <td>1.0</td>\n",
              "      <td>0.0</td>\n",
              "      <td>0.0</td>\n",
              "      <td>0.0</td>\n",
              "      <td>0.0</td>\n",
              "      <td>0.0</td>\n",
              "      <td>0.0</td>\n",
              "      <td>0.0</td>\n",
              "      <td>0.0</td>\n",
              "      <td>0.0</td>\n",
              "      <td>0.0</td>\n",
              "      <td>0.0</td>\n",
              "      <td>0.0</td>\n",
              "      <td>0.0</td>\n",
              "      <td>0.0</td>\n",
              "      <td>0.0</td>\n",
              "      <td>0.0</td>\n",
              "      <td>0.0</td>\n",
              "      <td>0.0</td>\n",
              "      <td>0.0</td>\n",
              "      <td>0.0</td>\n",
              "      <td>0.0</td>\n",
              "      <td>0.0</td>\n",
              "      <td>0.0</td>\n",
              "      <td>0.0</td>\n",
              "      <td>0.0</td>\n",
              "      <td>0.0</td>\n",
              "      <td>0.0</td>\n",
              "      <td>0.0</td>\n",
              "      <td>0.0</td>\n",
              "      <td>0.0</td>\n",
              "      <td>0.0</td>\n",
              "      <td>0.0</td>\n",
              "      <td>0.0</td>\n",
              "      <td>0.0</td>\n",
              "      <td>0.0</td>\n",
              "      <td>0.0</td>\n",
              "      <td>0.0</td>\n",
              "      <td>0.0</td>\n",
              "      <td>0.0</td>\n",
              "      <td>0.0</td>\n",
              "      <td>0.0</td>\n",
              "      <td>0.0</td>\n",
              "      <td>0.0</td>\n",
              "      <td>1.0</td>\n",
              "      <td>0.0</td>\n",
              "      <td>0.0</td>\n",
              "      <td>0.0</td>\n",
              "      <td>0.0</td>\n",
              "      <td>0.0</td>\n",
              "      <td>0.0</td>\n",
              "      <td>0.0</td>\n",
              "    </tr>\n",
              "    <tr>\n",
              "      <th>2</th>\n",
              "      <td>3991815</td>\n",
              "      <td>66</td>\n",
              "      <td>4</td>\n",
              "      <td>0</td>\n",
              "      <td>4</td>\n",
              "      <td>10</td>\n",
              "      <td>0</td>\n",
              "      <td>1</td>\n",
              "      <td>0</td>\n",
              "      <td>0</td>\n",
              "      <td>1.0</td>\n",
              "      <td>0.0</td>\n",
              "      <td>0.0</td>\n",
              "      <td>0.0</td>\n",
              "      <td>1.0</td>\n",
              "      <td>0.0</td>\n",
              "      <td>0.0</td>\n",
              "      <td>0.0</td>\n",
              "      <td>0.0</td>\n",
              "      <td>0.0</td>\n",
              "      <td>0.0</td>\n",
              "      <td>0.0</td>\n",
              "      <td>0.0</td>\n",
              "      <td>0.0</td>\n",
              "      <td>0.0</td>\n",
              "      <td>0.0</td>\n",
              "      <td>0.0</td>\n",
              "      <td>0.0</td>\n",
              "      <td>0.0</td>\n",
              "      <td>0.0</td>\n",
              "      <td>0.0</td>\n",
              "      <td>0.0</td>\n",
              "      <td>0.0</td>\n",
              "      <td>0.0</td>\n",
              "      <td>0.0</td>\n",
              "      <td>0.0</td>\n",
              "      <td>0.0</td>\n",
              "      <td>0.0</td>\n",
              "      <td>0.0</td>\n",
              "      <td>0.0</td>\n",
              "      <td>0.0</td>\n",
              "      <td>0.0</td>\n",
              "      <td>0.0</td>\n",
              "      <td>0.0</td>\n",
              "      <td>0.0</td>\n",
              "      <td>0.0</td>\n",
              "      <td>0.0</td>\n",
              "      <td>0.0</td>\n",
              "      <td>0.0</td>\n",
              "      <td>0.0</td>\n",
              "      <td>0.0</td>\n",
              "      <td>0.0</td>\n",
              "      <td>0.0</td>\n",
              "      <td>0.0</td>\n",
              "      <td>0.0</td>\n",
              "      <td>0.0</td>\n",
              "      <td>0.0</td>\n",
              "      <td>0.0</td>\n",
              "      <td>0.0</td>\n",
              "      <td>0.0</td>\n",
              "      <td>0.0</td>\n",
              "      <td>0.0</td>\n",
              "      <td>1.0</td>\n",
              "      <td>0.0</td>\n",
              "      <td>0.0</td>\n",
              "      <td>0.0</td>\n",
              "    </tr>\n",
              "    <tr>\n",
              "      <th>3</th>\n",
              "      <td>6256451</td>\n",
              "      <td>41</td>\n",
              "      <td>2</td>\n",
              "      <td>1</td>\n",
              "      <td>2</td>\n",
              "      <td>12</td>\n",
              "      <td>1</td>\n",
              "      <td>1</td>\n",
              "      <td>0</td>\n",
              "      <td>0</td>\n",
              "      <td>0.0</td>\n",
              "      <td>1.0</td>\n",
              "      <td>0.0</td>\n",
              "      <td>0.0</td>\n",
              "      <td>1.0</td>\n",
              "      <td>0.0</td>\n",
              "      <td>0.0</td>\n",
              "      <td>0.0</td>\n",
              "      <td>0.0</td>\n",
              "      <td>0.0</td>\n",
              "      <td>0.0</td>\n",
              "      <td>0.0</td>\n",
              "      <td>0.0</td>\n",
              "      <td>0.0</td>\n",
              "      <td>0.0</td>\n",
              "      <td>0.0</td>\n",
              "      <td>0.0</td>\n",
              "      <td>0.0</td>\n",
              "      <td>0.0</td>\n",
              "      <td>0.0</td>\n",
              "      <td>0.0</td>\n",
              "      <td>0.0</td>\n",
              "      <td>0.0</td>\n",
              "      <td>0.0</td>\n",
              "      <td>0.0</td>\n",
              "      <td>0.0</td>\n",
              "      <td>0.0</td>\n",
              "      <td>0.0</td>\n",
              "      <td>0.0</td>\n",
              "      <td>0.0</td>\n",
              "      <td>0.0</td>\n",
              "      <td>0.0</td>\n",
              "      <td>0.0</td>\n",
              "      <td>0.0</td>\n",
              "      <td>0.0</td>\n",
              "      <td>0.0</td>\n",
              "      <td>0.0</td>\n",
              "      <td>0.0</td>\n",
              "      <td>0.0</td>\n",
              "      <td>0.0</td>\n",
              "      <td>0.0</td>\n",
              "      <td>0.0</td>\n",
              "      <td>0.0</td>\n",
              "      <td>0.0</td>\n",
              "      <td>0.0</td>\n",
              "      <td>0.0</td>\n",
              "      <td>0.0</td>\n",
              "      <td>0.0</td>\n",
              "      <td>1.0</td>\n",
              "      <td>0.0</td>\n",
              "      <td>0.0</td>\n",
              "      <td>0.0</td>\n",
              "      <td>0.0</td>\n",
              "      <td>0.0</td>\n",
              "      <td>0.0</td>\n",
              "      <td>0.0</td>\n",
              "    </tr>\n",
              "    <tr>\n",
              "      <th>4</th>\n",
              "      <td>5768871</td>\n",
              "      <td>47</td>\n",
              "      <td>11</td>\n",
              "      <td>0</td>\n",
              "      <td>3</td>\n",
              "      <td>14</td>\n",
              "      <td>1</td>\n",
              "      <td>1</td>\n",
              "      <td>0</td>\n",
              "      <td>0</td>\n",
              "      <td>0.0</td>\n",
              "      <td>1.0</td>\n",
              "      <td>0.0</td>\n",
              "      <td>0.0</td>\n",
              "      <td>1.0</td>\n",
              "      <td>0.0</td>\n",
              "      <td>0.0</td>\n",
              "      <td>0.0</td>\n",
              "      <td>0.0</td>\n",
              "      <td>0.0</td>\n",
              "      <td>0.0</td>\n",
              "      <td>0.0</td>\n",
              "      <td>0.0</td>\n",
              "      <td>0.0</td>\n",
              "      <td>0.0</td>\n",
              "      <td>0.0</td>\n",
              "      <td>1.0</td>\n",
              "      <td>0.0</td>\n",
              "      <td>0.0</td>\n",
              "      <td>0.0</td>\n",
              "      <td>0.0</td>\n",
              "      <td>0.0</td>\n",
              "      <td>0.0</td>\n",
              "      <td>0.0</td>\n",
              "      <td>0.0</td>\n",
              "      <td>0.0</td>\n",
              "      <td>0.0</td>\n",
              "      <td>0.0</td>\n",
              "      <td>0.0</td>\n",
              "      <td>0.0</td>\n",
              "      <td>0.0</td>\n",
              "      <td>0.0</td>\n",
              "      <td>0.0</td>\n",
              "      <td>0.0</td>\n",
              "      <td>0.0</td>\n",
              "      <td>0.0</td>\n",
              "      <td>0.0</td>\n",
              "      <td>0.0</td>\n",
              "      <td>0.0</td>\n",
              "      <td>0.0</td>\n",
              "      <td>0.0</td>\n",
              "      <td>0.0</td>\n",
              "      <td>0.0</td>\n",
              "      <td>0.0</td>\n",
              "      <td>0.0</td>\n",
              "      <td>0.0</td>\n",
              "      <td>0.0</td>\n",
              "      <td>0.0</td>\n",
              "      <td>0.0</td>\n",
              "      <td>0.0</td>\n",
              "      <td>0.0</td>\n",
              "      <td>0.0</td>\n",
              "      <td>0.0</td>\n",
              "      <td>0.0</td>\n",
              "      <td>0.0</td>\n",
              "      <td>0.0</td>\n",
              "    </tr>\n",
              "  </tbody>\n",
              "</table>\n",
              "</div>"
            ],
            "text/plain": [
              "    Income  Age  Experience  ...  Technician  Technology_specialist  Web_designer\n",
              "0  1303834   23           3  ...         0.0                    0.0           0.0\n",
              "1  7574516   40          10  ...         0.0                    0.0           0.0\n",
              "2  3991815   66           4  ...         0.0                    0.0           0.0\n",
              "3  6256451   41           2  ...         0.0                    0.0           0.0\n",
              "4  5768871   47          11  ...         0.0                    0.0           0.0\n",
              "\n",
              "[5 rows x 66 columns]"
            ]
          },
          "metadata": {},
          "execution_count": 229
        }
      ]
    },
    {
      "cell_type": "code",
      "metadata": {
        "id": "p-KNdlShCyT0"
      },
      "source": [
        ""
      ],
      "execution_count": null,
      "outputs": []
    },
    {
      "cell_type": "code",
      "metadata": {
        "colab": {
          "base_uri": "https://localhost:8080/"
        },
        "id": "55ewzCIZHPk7",
        "outputId": "5d51d8fa-93eb-4f33-db08-93b67720cd43"
      },
      "source": [
        "train_df.columns"
      ],
      "execution_count": null,
      "outputs": [
        {
          "output_type": "execute_result",
          "data": {
            "text/plain": [
              "Index(['Income', 'Age', 'Experience', 'Car_Ownership', 'CURRENT_JOB_YRS',\n",
              "       'CURRENT_HOUSE_YRS', 'Risk_Flag', 'low_experience', 'med_experience',\n",
              "       'high_experience', 'married', 'single', 'norent_noown', 'owned',\n",
              "       'rented', 'Air_traffic_controller', 'Analyst', 'Architect',\n",
              "       'Army_officer', 'Artist', 'Aviator', 'Biomedical_Engineer',\n",
              "       'Chartered_Accountant', 'Chef', 'Chemical_engineer', 'Civil_engineer',\n",
              "       'Civil_servant', 'Comedian', 'Computer_hardware_engineer',\n",
              "       'Computer_operator', 'Consultant', 'Dentist', 'Design_Engineer',\n",
              "       'Designer', 'Drafter', 'Economist', 'Engineer', 'Fashion_Designer',\n",
              "       'Financial_Analyst', 'Firefighter', 'Flight_attendant', 'Geologist',\n",
              "       'Graphic_Designer', 'Hotel_Manager', 'Industrial_Engineer', 'Lawyer',\n",
              "       'Librarian', 'Magistrate', 'Mechanical_engineer', 'Microbiologist',\n",
              "       'Official', 'Petroleum_Engineer', 'Physician', 'Police_officer',\n",
              "       'Politician', 'Psychologist', 'Scientist', 'Secretary',\n",
              "       'Software_Developer', 'Statistician', 'Surgeon', 'Surveyor',\n",
              "       'Technical_writer', 'Technician', 'Technology_specialist',\n",
              "       'Web_designer'],\n",
              "      dtype='object')"
            ]
          },
          "metadata": {},
          "execution_count": 230
        }
      ]
    },
    {
      "cell_type": "code",
      "metadata": {
        "id": "KfHzGpu1IntW"
      },
      "source": [
        ""
      ],
      "execution_count": null,
      "outputs": []
    },
    {
      "cell_type": "code",
      "metadata": {
        "id": "B7sdzrpbJeE5"
      },
      "source": [
        ""
      ],
      "execution_count": null,
      "outputs": []
    },
    {
      "cell_type": "code",
      "metadata": {
        "id": "ZPCa41MnJeIB"
      },
      "source": [
        ""
      ],
      "execution_count": null,
      "outputs": []
    },
    {
      "cell_type": "code",
      "metadata": {
        "id": "lFhqk7IzJeK6"
      },
      "source": [
        "test_df = pd.read_csv(\"Test Data.csv\")"
      ],
      "execution_count": null,
      "outputs": []
    },
    {
      "cell_type": "code",
      "metadata": {
        "id": "bOExIdFkJeSX"
      },
      "source": [
        "test_df['low_experience'] = np.where((test_df['CURRENT_JOB_YRS'] >= 1) & (test_df['CURRENT_JOB_YRS'] <= 5) , 1, 0)\n",
        "test_df['med_experience'] = np.where((test_df['CURRENT_JOB_YRS'] >= 6) & (test_df['CURRENT_JOB_YRS'] <= 10) , 1, 0)\n",
        "test_df['high_experience'] = np.where((test_df['CURRENT_JOB_YRS'] >= 11) & (test_df['CURRENT_JOB_YRS'] <= 14) , 1, 0)\n"
      ],
      "execution_count": null,
      "outputs": []
    },
    {
      "cell_type": "code",
      "metadata": {
        "id": "NLMsICJvJeUw"
      },
      "source": [
        "relation_state = test_df[['Married/Single']]\n",
        "\n",
        "from sklearn.preprocessing import OneHotEncoder\n",
        "cat_encoder = OneHotEncoder(sparse=False)\n",
        "rela_st = cat_encoder.fit_transform(relation_state)\n",
        "\n",
        "state_coded = pd.DataFrame(rela_st , columns=['married', 'single'])\n",
        "test_df=pd.concat([test_df,state_coded] , axis=1)"
      ],
      "execution_count": null,
      "outputs": []
    },
    {
      "cell_type": "code",
      "metadata": {
        "id": "ng1D_kfWJeW4"
      },
      "source": [
        "car_owner = { 'yes' : 1 , 'no' : 0 }\n",
        "test_df['Car_Ownership'] = test_df['Car_Ownership'].replace(car_owner)"
      ],
      "execution_count": null,
      "outputs": []
    },
    {
      "cell_type": "code",
      "metadata": {
        "id": "oHgHNP1rKjFR"
      },
      "source": [
        "house_owner = test_df[['House_Ownership']]\n",
        "cat_encoder = OneHotEncoder(sparse=False)\n",
        "h_o_cat = cat_encoder.fit_transform(house_owner)\n",
        "\n",
        "ho_hot_encoded = pd.DataFrame(h_o_cat , columns=['norent_noown', 'owned', 'rented'])\n",
        "test_df = pd.concat([test_df , ho_hot_encoded] , axis=1)"
      ],
      "execution_count": null,
      "outputs": []
    },
    {
      "cell_type": "code",
      "metadata": {
        "id": "CfuLdcsmDgB2"
      },
      "source": [
        "relation_state = test_df[['Profession']]\n",
        "\n",
        "from sklearn.preprocessing import OneHotEncoder\n",
        "cat_encoder = OneHotEncoder(sparse=False)\n",
        "rela_st = cat_encoder.fit_transform(relation_state)\n"
      ],
      "execution_count": null,
      "outputs": []
    },
    {
      "cell_type": "code",
      "metadata": {
        "colab": {
          "base_uri": "https://localhost:8080/"
        },
        "id": "2fmlginNDgKD",
        "outputId": "66f0ae70-35de-4c76-c270-17563ad482af"
      },
      "source": [
        "cat_encoder.categories_"
      ],
      "execution_count": null,
      "outputs": [
        {
          "output_type": "execute_result",
          "data": {
            "text/plain": [
              "[array(['Air traffic controller', 'Analyst', 'Architect', 'Army officer',\n",
              "        'Artist', 'Aviator', 'Biomedical Engineer', 'Chartered Accountant',\n",
              "        'Chef', 'Chemical engineer', 'Civil engineer', 'Civil servant',\n",
              "        'Comedian', 'Computer hardware engineer', 'Computer operator',\n",
              "        'Consultant', 'Dentist', 'Design Engineer', 'Designer', 'Drafter',\n",
              "        'Economist', 'Engineer', 'Fashion Designer', 'Financial Analyst',\n",
              "        'Firefighter', 'Flight attendant', 'Geologist', 'Graphic Designer',\n",
              "        'Hotel Manager', 'Industrial Engineer', 'Lawyer', 'Librarian',\n",
              "        'Magistrate', 'Mechanical engineer', 'Microbiologist', 'Official',\n",
              "        'Petroleum Engineer', 'Physician', 'Police officer', 'Politician',\n",
              "        'Psychologist', 'Scientist', 'Secretary', 'Software Developer',\n",
              "        'Statistician', 'Surgeon', 'Surveyor', 'Technical writer',\n",
              "        'Technician', 'Technology specialist', 'Web designer'],\n",
              "       dtype=object)]"
            ]
          },
          "metadata": {},
          "execution_count": 237
        }
      ]
    },
    {
      "cell_type": "code",
      "metadata": {
        "id": "lbpyhybWDgX6"
      },
      "source": [
        "state_coded = pd.DataFrame(rela_st , columns=['Air_traffic_controller', 'Analyst', 'Architect', 'Army_officer',\n",
        "        'Artist', 'Aviator', 'Biomedical_Engineer', 'Chartered_Accountant',\n",
        "        'Chef', 'Chemical_engineer', 'Civil_engineer', 'Civil_servant',\n",
        "        'Comedian', 'Computer_hardware_engineer', 'Computer_operator',\n",
        "        'Consultant', 'Dentist', 'Design_Engineer', 'Designer', 'Drafter',\n",
        "        'Economist', 'Engineer', 'Fashion_Designer', 'Financial_Analyst',\n",
        "        'Firefighter', 'Flight_attendant', 'Geologist', 'Graphic_Designer',\n",
        "        'Hotel_Manager', 'Industrial_Engineer', 'Lawyer', 'Librarian',\n",
        "        'Magistrate', 'Mechanical_engineer', 'Microbiologist', 'Official',\n",
        "        'Petroleum_Engineer', 'Physician', 'Police_officer', 'Politician',\n",
        "        'Psychologist', 'Scientist', 'Secretary', 'Software_Developer',\n",
        "        'Statistician', 'Surgeon', 'Surveyor', 'Technical_writer',\n",
        "        'Technician', 'Technology_specialist', 'Web_designer'])\n",
        "test_df=pd.concat([test_df,state_coded] , axis=1)"
      ],
      "execution_count": null,
      "outputs": []
    },
    {
      "cell_type": "code",
      "metadata": {
        "id": "qaLStBbNETO8"
      },
      "source": [
        ""
      ],
      "execution_count": null,
      "outputs": []
    },
    {
      "cell_type": "code",
      "metadata": {
        "id": "K0FFZtVkK1p8"
      },
      "source": [
        "columns_to_be_deleted = ['ID','Married/Single' , 'House_Ownership' , 'Profession' , 'CITY' , 'STATE' ]\n",
        "for i in columns_to_be_deleted:\n",
        "  test_df.drop( i , axis=1 , inplace=True)"
      ],
      "execution_count": null,
      "outputs": []
    },
    {
      "cell_type": "code",
      "metadata": {
        "colab": {
          "base_uri": "https://localhost:8080/",
          "height": 223
        },
        "id": "Bgn2DMJpLJjn",
        "outputId": "4f3e9e93-04bd-4790-bafe-4cebdbbbba8e"
      },
      "source": [
        "test_df.head()"
      ],
      "execution_count": null,
      "outputs": [
        {
          "output_type": "execute_result",
          "data": {
            "text/html": [
              "<div>\n",
              "<style scoped>\n",
              "    .dataframe tbody tr th:only-of-type {\n",
              "        vertical-align: middle;\n",
              "    }\n",
              "\n",
              "    .dataframe tbody tr th {\n",
              "        vertical-align: top;\n",
              "    }\n",
              "\n",
              "    .dataframe thead th {\n",
              "        text-align: right;\n",
              "    }\n",
              "</style>\n",
              "<table border=\"1\" class=\"dataframe\">\n",
              "  <thead>\n",
              "    <tr style=\"text-align: right;\">\n",
              "      <th></th>\n",
              "      <th>Income</th>\n",
              "      <th>Age</th>\n",
              "      <th>Experience</th>\n",
              "      <th>Car_Ownership</th>\n",
              "      <th>CURRENT_JOB_YRS</th>\n",
              "      <th>CURRENT_HOUSE_YRS</th>\n",
              "      <th>low_experience</th>\n",
              "      <th>med_experience</th>\n",
              "      <th>high_experience</th>\n",
              "      <th>married</th>\n",
              "      <th>single</th>\n",
              "      <th>norent_noown</th>\n",
              "      <th>owned</th>\n",
              "      <th>rented</th>\n",
              "      <th>Air_traffic_controller</th>\n",
              "      <th>Analyst</th>\n",
              "      <th>Architect</th>\n",
              "      <th>Army_officer</th>\n",
              "      <th>Artist</th>\n",
              "      <th>Aviator</th>\n",
              "      <th>Biomedical_Engineer</th>\n",
              "      <th>Chartered_Accountant</th>\n",
              "      <th>Chef</th>\n",
              "      <th>Chemical_engineer</th>\n",
              "      <th>Civil_engineer</th>\n",
              "      <th>Civil_servant</th>\n",
              "      <th>Comedian</th>\n",
              "      <th>Computer_hardware_engineer</th>\n",
              "      <th>Computer_operator</th>\n",
              "      <th>Consultant</th>\n",
              "      <th>Dentist</th>\n",
              "      <th>Design_Engineer</th>\n",
              "      <th>Designer</th>\n",
              "      <th>Drafter</th>\n",
              "      <th>Economist</th>\n",
              "      <th>Engineer</th>\n",
              "      <th>Fashion_Designer</th>\n",
              "      <th>Financial_Analyst</th>\n",
              "      <th>Firefighter</th>\n",
              "      <th>Flight_attendant</th>\n",
              "      <th>Geologist</th>\n",
              "      <th>Graphic_Designer</th>\n",
              "      <th>Hotel_Manager</th>\n",
              "      <th>Industrial_Engineer</th>\n",
              "      <th>Lawyer</th>\n",
              "      <th>Librarian</th>\n",
              "      <th>Magistrate</th>\n",
              "      <th>Mechanical_engineer</th>\n",
              "      <th>Microbiologist</th>\n",
              "      <th>Official</th>\n",
              "      <th>Petroleum_Engineer</th>\n",
              "      <th>Physician</th>\n",
              "      <th>Police_officer</th>\n",
              "      <th>Politician</th>\n",
              "      <th>Psychologist</th>\n",
              "      <th>Scientist</th>\n",
              "      <th>Secretary</th>\n",
              "      <th>Software_Developer</th>\n",
              "      <th>Statistician</th>\n",
              "      <th>Surgeon</th>\n",
              "      <th>Surveyor</th>\n",
              "      <th>Technical_writer</th>\n",
              "      <th>Technician</th>\n",
              "      <th>Technology_specialist</th>\n",
              "      <th>Web_designer</th>\n",
              "    </tr>\n",
              "  </thead>\n",
              "  <tbody>\n",
              "    <tr>\n",
              "      <th>0</th>\n",
              "      <td>7393090</td>\n",
              "      <td>59</td>\n",
              "      <td>19</td>\n",
              "      <td>0</td>\n",
              "      <td>4</td>\n",
              "      <td>13</td>\n",
              "      <td>1</td>\n",
              "      <td>0</td>\n",
              "      <td>0</td>\n",
              "      <td>0.0</td>\n",
              "      <td>1.0</td>\n",
              "      <td>0.0</td>\n",
              "      <td>0.0</td>\n",
              "      <td>1.0</td>\n",
              "      <td>0.0</td>\n",
              "      <td>0.0</td>\n",
              "      <td>0.0</td>\n",
              "      <td>0.0</td>\n",
              "      <td>0.0</td>\n",
              "      <td>0.0</td>\n",
              "      <td>0.0</td>\n",
              "      <td>0.0</td>\n",
              "      <td>0.0</td>\n",
              "      <td>0.0</td>\n",
              "      <td>0.0</td>\n",
              "      <td>0.0</td>\n",
              "      <td>0.0</td>\n",
              "      <td>0.0</td>\n",
              "      <td>0.0</td>\n",
              "      <td>0.0</td>\n",
              "      <td>0.0</td>\n",
              "      <td>0.0</td>\n",
              "      <td>0.0</td>\n",
              "      <td>0.0</td>\n",
              "      <td>0.0</td>\n",
              "      <td>0.0</td>\n",
              "      <td>0.0</td>\n",
              "      <td>0.0</td>\n",
              "      <td>0.0</td>\n",
              "      <td>0.0</td>\n",
              "      <td>1.0</td>\n",
              "      <td>0.0</td>\n",
              "      <td>0.0</td>\n",
              "      <td>0.0</td>\n",
              "      <td>0.0</td>\n",
              "      <td>0.0</td>\n",
              "      <td>0.0</td>\n",
              "      <td>0.0</td>\n",
              "      <td>0.0</td>\n",
              "      <td>0.0</td>\n",
              "      <td>0.0</td>\n",
              "      <td>0.0</td>\n",
              "      <td>0.0</td>\n",
              "      <td>0.0</td>\n",
              "      <td>0.0</td>\n",
              "      <td>0.0</td>\n",
              "      <td>0.0</td>\n",
              "      <td>0.0</td>\n",
              "      <td>0.0</td>\n",
              "      <td>0.0</td>\n",
              "      <td>0.0</td>\n",
              "      <td>0.0</td>\n",
              "      <td>0.0</td>\n",
              "      <td>0.0</td>\n",
              "      <td>0.0</td>\n",
              "    </tr>\n",
              "    <tr>\n",
              "      <th>1</th>\n",
              "      <td>1215004</td>\n",
              "      <td>25</td>\n",
              "      <td>5</td>\n",
              "      <td>0</td>\n",
              "      <td>5</td>\n",
              "      <td>10</td>\n",
              "      <td>1</td>\n",
              "      <td>0</td>\n",
              "      <td>0</td>\n",
              "      <td>0.0</td>\n",
              "      <td>1.0</td>\n",
              "      <td>0.0</td>\n",
              "      <td>0.0</td>\n",
              "      <td>1.0</td>\n",
              "      <td>0.0</td>\n",
              "      <td>0.0</td>\n",
              "      <td>0.0</td>\n",
              "      <td>0.0</td>\n",
              "      <td>0.0</td>\n",
              "      <td>0.0</td>\n",
              "      <td>0.0</td>\n",
              "      <td>0.0</td>\n",
              "      <td>0.0</td>\n",
              "      <td>0.0</td>\n",
              "      <td>0.0</td>\n",
              "      <td>0.0</td>\n",
              "      <td>0.0</td>\n",
              "      <td>0.0</td>\n",
              "      <td>0.0</td>\n",
              "      <td>0.0</td>\n",
              "      <td>0.0</td>\n",
              "      <td>0.0</td>\n",
              "      <td>0.0</td>\n",
              "      <td>0.0</td>\n",
              "      <td>0.0</td>\n",
              "      <td>0.0</td>\n",
              "      <td>0.0</td>\n",
              "      <td>0.0</td>\n",
              "      <td>1.0</td>\n",
              "      <td>0.0</td>\n",
              "      <td>0.0</td>\n",
              "      <td>0.0</td>\n",
              "      <td>0.0</td>\n",
              "      <td>0.0</td>\n",
              "      <td>0.0</td>\n",
              "      <td>0.0</td>\n",
              "      <td>0.0</td>\n",
              "      <td>0.0</td>\n",
              "      <td>0.0</td>\n",
              "      <td>0.0</td>\n",
              "      <td>0.0</td>\n",
              "      <td>0.0</td>\n",
              "      <td>0.0</td>\n",
              "      <td>0.0</td>\n",
              "      <td>0.0</td>\n",
              "      <td>0.0</td>\n",
              "      <td>0.0</td>\n",
              "      <td>0.0</td>\n",
              "      <td>0.0</td>\n",
              "      <td>0.0</td>\n",
              "      <td>0.0</td>\n",
              "      <td>0.0</td>\n",
              "      <td>0.0</td>\n",
              "      <td>0.0</td>\n",
              "      <td>0.0</td>\n",
              "    </tr>\n",
              "    <tr>\n",
              "      <th>2</th>\n",
              "      <td>8901342</td>\n",
              "      <td>50</td>\n",
              "      <td>12</td>\n",
              "      <td>0</td>\n",
              "      <td>9</td>\n",
              "      <td>14</td>\n",
              "      <td>0</td>\n",
              "      <td>1</td>\n",
              "      <td>0</td>\n",
              "      <td>0.0</td>\n",
              "      <td>1.0</td>\n",
              "      <td>0.0</td>\n",
              "      <td>0.0</td>\n",
              "      <td>1.0</td>\n",
              "      <td>0.0</td>\n",
              "      <td>0.0</td>\n",
              "      <td>0.0</td>\n",
              "      <td>0.0</td>\n",
              "      <td>0.0</td>\n",
              "      <td>0.0</td>\n",
              "      <td>0.0</td>\n",
              "      <td>0.0</td>\n",
              "      <td>0.0</td>\n",
              "      <td>0.0</td>\n",
              "      <td>0.0</td>\n",
              "      <td>0.0</td>\n",
              "      <td>0.0</td>\n",
              "      <td>0.0</td>\n",
              "      <td>0.0</td>\n",
              "      <td>0.0</td>\n",
              "      <td>0.0</td>\n",
              "      <td>0.0</td>\n",
              "      <td>0.0</td>\n",
              "      <td>0.0</td>\n",
              "      <td>0.0</td>\n",
              "      <td>0.0</td>\n",
              "      <td>0.0</td>\n",
              "      <td>0.0</td>\n",
              "      <td>0.0</td>\n",
              "      <td>0.0</td>\n",
              "      <td>0.0</td>\n",
              "      <td>0.0</td>\n",
              "      <td>0.0</td>\n",
              "      <td>0.0</td>\n",
              "      <td>1.0</td>\n",
              "      <td>0.0</td>\n",
              "      <td>0.0</td>\n",
              "      <td>0.0</td>\n",
              "      <td>0.0</td>\n",
              "      <td>0.0</td>\n",
              "      <td>0.0</td>\n",
              "      <td>0.0</td>\n",
              "      <td>0.0</td>\n",
              "      <td>0.0</td>\n",
              "      <td>0.0</td>\n",
              "      <td>0.0</td>\n",
              "      <td>0.0</td>\n",
              "      <td>0.0</td>\n",
              "      <td>0.0</td>\n",
              "      <td>0.0</td>\n",
              "      <td>0.0</td>\n",
              "      <td>0.0</td>\n",
              "      <td>0.0</td>\n",
              "      <td>0.0</td>\n",
              "      <td>0.0</td>\n",
              "    </tr>\n",
              "    <tr>\n",
              "      <th>3</th>\n",
              "      <td>1944421</td>\n",
              "      <td>49</td>\n",
              "      <td>9</td>\n",
              "      <td>1</td>\n",
              "      <td>3</td>\n",
              "      <td>12</td>\n",
              "      <td>1</td>\n",
              "      <td>0</td>\n",
              "      <td>0</td>\n",
              "      <td>1.0</td>\n",
              "      <td>0.0</td>\n",
              "      <td>0.0</td>\n",
              "      <td>0.0</td>\n",
              "      <td>1.0</td>\n",
              "      <td>0.0</td>\n",
              "      <td>1.0</td>\n",
              "      <td>0.0</td>\n",
              "      <td>0.0</td>\n",
              "      <td>0.0</td>\n",
              "      <td>0.0</td>\n",
              "      <td>0.0</td>\n",
              "      <td>0.0</td>\n",
              "      <td>0.0</td>\n",
              "      <td>0.0</td>\n",
              "      <td>0.0</td>\n",
              "      <td>0.0</td>\n",
              "      <td>0.0</td>\n",
              "      <td>0.0</td>\n",
              "      <td>0.0</td>\n",
              "      <td>0.0</td>\n",
              "      <td>0.0</td>\n",
              "      <td>0.0</td>\n",
              "      <td>0.0</td>\n",
              "      <td>0.0</td>\n",
              "      <td>0.0</td>\n",
              "      <td>0.0</td>\n",
              "      <td>0.0</td>\n",
              "      <td>0.0</td>\n",
              "      <td>0.0</td>\n",
              "      <td>0.0</td>\n",
              "      <td>0.0</td>\n",
              "      <td>0.0</td>\n",
              "      <td>0.0</td>\n",
              "      <td>0.0</td>\n",
              "      <td>0.0</td>\n",
              "      <td>0.0</td>\n",
              "      <td>0.0</td>\n",
              "      <td>0.0</td>\n",
              "      <td>0.0</td>\n",
              "      <td>0.0</td>\n",
              "      <td>0.0</td>\n",
              "      <td>0.0</td>\n",
              "      <td>0.0</td>\n",
              "      <td>0.0</td>\n",
              "      <td>0.0</td>\n",
              "      <td>0.0</td>\n",
              "      <td>0.0</td>\n",
              "      <td>0.0</td>\n",
              "      <td>0.0</td>\n",
              "      <td>0.0</td>\n",
              "      <td>0.0</td>\n",
              "      <td>0.0</td>\n",
              "      <td>0.0</td>\n",
              "      <td>0.0</td>\n",
              "      <td>0.0</td>\n",
              "    </tr>\n",
              "    <tr>\n",
              "      <th>4</th>\n",
              "      <td>13429</td>\n",
              "      <td>25</td>\n",
              "      <td>18</td>\n",
              "      <td>1</td>\n",
              "      <td>13</td>\n",
              "      <td>11</td>\n",
              "      <td>0</td>\n",
              "      <td>0</td>\n",
              "      <td>1</td>\n",
              "      <td>0.0</td>\n",
              "      <td>1.0</td>\n",
              "      <td>0.0</td>\n",
              "      <td>0.0</td>\n",
              "      <td>1.0</td>\n",
              "      <td>0.0</td>\n",
              "      <td>0.0</td>\n",
              "      <td>0.0</td>\n",
              "      <td>0.0</td>\n",
              "      <td>0.0</td>\n",
              "      <td>0.0</td>\n",
              "      <td>0.0</td>\n",
              "      <td>0.0</td>\n",
              "      <td>0.0</td>\n",
              "      <td>0.0</td>\n",
              "      <td>0.0</td>\n",
              "      <td>0.0</td>\n",
              "      <td>1.0</td>\n",
              "      <td>0.0</td>\n",
              "      <td>0.0</td>\n",
              "      <td>0.0</td>\n",
              "      <td>0.0</td>\n",
              "      <td>0.0</td>\n",
              "      <td>0.0</td>\n",
              "      <td>0.0</td>\n",
              "      <td>0.0</td>\n",
              "      <td>0.0</td>\n",
              "      <td>0.0</td>\n",
              "      <td>0.0</td>\n",
              "      <td>0.0</td>\n",
              "      <td>0.0</td>\n",
              "      <td>0.0</td>\n",
              "      <td>0.0</td>\n",
              "      <td>0.0</td>\n",
              "      <td>0.0</td>\n",
              "      <td>0.0</td>\n",
              "      <td>0.0</td>\n",
              "      <td>0.0</td>\n",
              "      <td>0.0</td>\n",
              "      <td>0.0</td>\n",
              "      <td>0.0</td>\n",
              "      <td>0.0</td>\n",
              "      <td>0.0</td>\n",
              "      <td>0.0</td>\n",
              "      <td>0.0</td>\n",
              "      <td>0.0</td>\n",
              "      <td>0.0</td>\n",
              "      <td>0.0</td>\n",
              "      <td>0.0</td>\n",
              "      <td>0.0</td>\n",
              "      <td>0.0</td>\n",
              "      <td>0.0</td>\n",
              "      <td>0.0</td>\n",
              "      <td>0.0</td>\n",
              "      <td>0.0</td>\n",
              "      <td>0.0</td>\n",
              "    </tr>\n",
              "  </tbody>\n",
              "</table>\n",
              "</div>"
            ],
            "text/plain": [
              "    Income  Age  Experience  ...  Technician  Technology_specialist  Web_designer\n",
              "0  7393090   59          19  ...         0.0                    0.0           0.0\n",
              "1  1215004   25           5  ...         0.0                    0.0           0.0\n",
              "2  8901342   50          12  ...         0.0                    0.0           0.0\n",
              "3  1944421   49           9  ...         0.0                    0.0           0.0\n",
              "4    13429   25          18  ...         0.0                    0.0           0.0\n",
              "\n",
              "[5 rows x 65 columns]"
            ]
          },
          "metadata": {},
          "execution_count": 240
        }
      ]
    },
    {
      "cell_type": "code",
      "metadata": {
        "colab": {
          "base_uri": "https://localhost:8080/",
          "height": 203
        },
        "id": "s7A0B0CVQ-ku",
        "outputId": "26ee465f-42e1-45c5-b57b-935c7c34ee24"
      },
      "source": [
        "real_pred = pd.read_csv(\"Sample Prediction Dataset.csv\")\n",
        "real_pred.head()"
      ],
      "execution_count": null,
      "outputs": [
        {
          "output_type": "execute_result",
          "data": {
            "text/html": [
              "<div>\n",
              "<style scoped>\n",
              "    .dataframe tbody tr th:only-of-type {\n",
              "        vertical-align: middle;\n",
              "    }\n",
              "\n",
              "    .dataframe tbody tr th {\n",
              "        vertical-align: top;\n",
              "    }\n",
              "\n",
              "    .dataframe thead th {\n",
              "        text-align: right;\n",
              "    }\n",
              "</style>\n",
              "<table border=\"1\" class=\"dataframe\">\n",
              "  <thead>\n",
              "    <tr style=\"text-align: right;\">\n",
              "      <th></th>\n",
              "      <th>id</th>\n",
              "      <th>risk_flag</th>\n",
              "    </tr>\n",
              "  </thead>\n",
              "  <tbody>\n",
              "    <tr>\n",
              "      <th>0</th>\n",
              "      <td>1</td>\n",
              "      <td>0</td>\n",
              "    </tr>\n",
              "    <tr>\n",
              "      <th>1</th>\n",
              "      <td>2</td>\n",
              "      <td>0</td>\n",
              "    </tr>\n",
              "    <tr>\n",
              "      <th>2</th>\n",
              "      <td>3</td>\n",
              "      <td>1</td>\n",
              "    </tr>\n",
              "    <tr>\n",
              "      <th>3</th>\n",
              "      <td>4</td>\n",
              "      <td>0</td>\n",
              "    </tr>\n",
              "    <tr>\n",
              "      <th>4</th>\n",
              "      <td>5</td>\n",
              "      <td>0</td>\n",
              "    </tr>\n",
              "  </tbody>\n",
              "</table>\n",
              "</div>"
            ],
            "text/plain": [
              "   id  risk_flag\n",
              "0   1          0\n",
              "1   2          0\n",
              "2   3          1\n",
              "3   4          0\n",
              "4   5          0"
            ]
          },
          "metadata": {},
          "execution_count": 241
        }
      ]
    },
    {
      "cell_type": "code",
      "metadata": {
        "id": "Hr6UsPp2RT-e"
      },
      "source": [
        "scoring_reg={'mean_absolute_error':mean_absolute_error,\n",
        "         'mean_squared_log_error':mean_squared_log_error\n",
        "        ,'mean_squared_error':mean_squared_error\n",
        "        ,'median_absolute_error':median_absolute_error\n",
        "        ,'r2_score':r2_score}"
      ],
      "execution_count": null,
      "outputs": []
    },
    {
      "cell_type": "code",
      "metadata": {
        "id": "RuaMMYj5URGI"
      },
      "source": [
        "scoring_class = {'accuracy_score':accuracy_score,\n",
        "                 'f1_score':f1_score,\n",
        "                 #'cross_val_score':cross_val_score,\n",
        "                 'confusion_matrix':confusion_matrix,\n",
        "                 'classification_report':classification_report}"
      ],
      "execution_count": null,
      "outputs": []
    },
    {
      "cell_type": "code",
      "metadata": {
        "id": "jNyzmYi_LLmp"
      },
      "source": [
        "X_train = train_df[[ 'Income', 'Age', 'Experience', 'Car_Ownership', 'CURRENT_JOB_YRS',\n",
        "       'CURRENT_HOUSE_YRS',  'low_experience', 'med_experience',\n",
        "       'high_experience', 'married', 'single', 'norent_noown', 'owned',\n",
        "       'rented', 'Air_traffic_controller', 'Analyst', 'Architect',\n",
        "       'Army_officer', 'Artist', 'Aviator', 'Biomedical_Engineer',\n",
        "       'Chartered_Accountant', 'Chef', 'Chemical_engineer', 'Civil_engineer',\n",
        "       'Civil_servant', 'Comedian', 'Computer_hardware_engineer',\n",
        "       'Computer_operator', 'Consultant', 'Dentist', 'Design_Engineer',\n",
        "       'Designer', 'Drafter', 'Economist', 'Engineer', 'Fashion_Designer',\n",
        "       'Financial_Analyst', 'Firefighter', 'Flight_attendant', 'Geologist',\n",
        "       'Graphic_Designer', 'Hotel_Manager', 'Industrial_Engineer', 'Lawyer',\n",
        "       'Librarian', 'Magistrate', 'Mechanical_engineer', 'Microbiologist',\n",
        "       'Official', 'Petroleum_Engineer', 'Physician', 'Police_officer',\n",
        "       'Politician', 'Psychologist', 'Scientist', 'Secretary',\n",
        "       'Software_Developer', 'Statistician', 'Surgeon', 'Surveyor',\n",
        "       'Technical_writer', 'Technician', 'Technology_specialist',\n",
        "       'Web_designer']]\n",
        "\n",
        "y_train = train_df['Risk_Flag']\n",
        "\n",
        "X_test = test_df[['Income', 'Age', 'Experience', 'Car_Ownership', 'CURRENT_JOB_YRS',\n",
        "       'CURRENT_HOUSE_YRS', 'low_experience', 'med_experience',\n",
        "       'high_experience', 'married', 'single', 'norent_noown', 'owned',\n",
        "       'rented', 'Air_traffic_controller', 'Analyst', 'Architect',\n",
        "       'Army_officer', 'Artist', 'Aviator', 'Biomedical_Engineer',\n",
        "       'Chartered_Accountant', 'Chef', 'Chemical_engineer', 'Civil_engineer',\n",
        "       'Civil_servant', 'Comedian', 'Computer_hardware_engineer',\n",
        "       'Computer_operator', 'Consultant', 'Dentist', 'Design_Engineer',\n",
        "       'Designer', 'Drafter', 'Economist', 'Engineer', 'Fashion_Designer',\n",
        "       'Financial_Analyst', 'Firefighter', 'Flight_attendant', 'Geologist',\n",
        "       'Graphic_Designer', 'Hotel_Manager', 'Industrial_Engineer', 'Lawyer',\n",
        "       'Librarian', 'Magistrate', 'Mechanical_engineer', 'Microbiologist',\n",
        "       'Official', 'Petroleum_Engineer', 'Physician', 'Police_officer',\n",
        "       'Politician', 'Psychologist', 'Scientist', 'Secretary',\n",
        "       'Software_Developer', 'Statistician', 'Surgeon', 'Surveyor',\n",
        "       'Technical_writer', 'Technician', 'Technology_specialist',\n",
        "       'Web_designer']]\n",
        "\n",
        "real_y = real_pred['risk_flag']"
      ],
      "execution_count": null,
      "outputs": []
    },
    {
      "cell_type": "markdown",
      "metadata": {
        "id": "LWJ8GbFLPKcZ"
      },
      "source": [
        "K NEAREST NEIGHBOUR"
      ]
    },
    {
      "cell_type": "code",
      "metadata": {
        "colab": {
          "base_uri": "https://localhost:8080/"
        },
        "id": "iPJepOztPJ2A",
        "outputId": "b241f42a-ff10-4d29-e837-48f08126a46b"
      },
      "source": [
        "from sklearn.neighbors import KNeighborsClassifier\n",
        "knn = KNeighborsClassifier(n_neighbors=33)\n",
        "knn.fit(X_train,y_train)\n",
        "\n",
        "for name,score in scoring_class.items():\n",
        "  print(name ,(score(real_y , knn.predict(X_test))))"
      ],
      "execution_count": null,
      "outputs": [
        {
          "output_type": "stream",
          "name": "stdout",
          "text": [
            "accuracy_score 0.7790357142857143\n",
            "f1_score 0.11928825622775802\n",
            "confusion_matrix [[21394  3013]\n",
            " [ 3174   419]]\n",
            "classification_report               precision    recall  f1-score   support\n",
            "\n",
            "           0       0.87      0.88      0.87     24407\n",
            "           1       0.12      0.12      0.12      3593\n",
            "\n",
            "    accuracy                           0.78     28000\n",
            "   macro avg       0.50      0.50      0.50     28000\n",
            "weighted avg       0.77      0.78      0.78     28000\n",
            "\n"
          ]
        }
      ]
    },
    {
      "cell_type": "markdown",
      "metadata": {
        "id": "SlgH8xffYbUC"
      },
      "source": [
        "my own code"
      ]
    },
    {
      "cell_type": "code",
      "metadata": {
        "colab": {
          "base_uri": "https://localhost:8080/"
        },
        "id": "CnNPLqTAHnGU",
        "outputId": "0a83dad5-e3c5-45fa-e0f3-e0cd9cacf07c"
      },
      "source": [
        "type(X_train)"
      ],
      "execution_count": null,
      "outputs": [
        {
          "output_type": "execute_result",
          "data": {
            "text/plain": [
              "pandas.core.frame.DataFrame"
            ]
          },
          "metadata": {},
          "execution_count": 246
        }
      ]
    },
    {
      "cell_type": "code",
      "metadata": {
        "id": "8lxz6WwDbmis"
      },
      "source": [
        "sc_X = StandardScaler()\n",
        "X_train1 = sc_X.fit_transform(X_train.iloc[0:500 , :])\n",
        "X_test1 = sc_X.transform(X_test.iloc[0:200 , :])"
      ],
      "execution_count": null,
      "outputs": []
    },
    {
      "cell_type": "code",
      "metadata": {
        "id": "SYTHrncDYtt4"
      },
      "source": [
        "\n",
        "#X_train.shape"
      ],
      "execution_count": null,
      "outputs": []
    },
    {
      "cell_type": "code",
      "metadata": {
        "id": "J0PerCIFYty2"
      },
      "source": [
        "#X_test.shape"
      ],
      "execution_count": null,
      "outputs": []
    },
    {
      "cell_type": "code",
      "metadata": {
        "id": "TJVuEjBSYt34"
      },
      "source": [
        "y_train1= y_train.to_numpy()"
      ],
      "execution_count": null,
      "outputs": []
    },
    {
      "cell_type": "code",
      "metadata": {
        "id": "IvPgVHvDCXBw"
      },
      "source": [
        "y_predd = []\n",
        "\n",
        "for i in range(len(X_test1)):\n",
        "    \n",
        "\n",
        "\n",
        "    eculidean_dis=[]\n",
        "    index_ = []\n",
        "    y_val=[]\n",
        "    for j in range(len(X_train1)):\n",
        "        s =   np.sqrt(abs(np.sum(((X_test1[i,:]) - (X_train1[j,:]))**2)))\n",
        "        eculidean_dis.append(s)\n",
        "        \n",
        "    for x in range(11):\n",
        "        m = min(eculidean_dis)\n",
        "        y = eculidean_dis.index(m)\n",
        "        index_.append(y)\n",
        "        eculidean_dis[y]=9999\n",
        "            \n",
        "    for p in index_:\n",
        "        y_val.append(y_train1[p])\n",
        "\n",
        "\n",
        "    if y_val.count(1)>y_val.count(0):\n",
        "        y_predd.append(1)\n",
        "\n",
        "    else:\n",
        "        y_predd.append(0)\n",
        "        "
      ],
      "execution_count": null,
      "outputs": []
    },
    {
      "cell_type": "code",
      "metadata": {
        "colab": {
          "base_uri": "https://localhost:8080/"
        },
        "id": "IlBFocLqDhRh",
        "outputId": "994ca02d-131c-424f-ef91-904a7fd59c87"
      },
      "source": [
        "print(len(y_predd))"
      ],
      "execution_count": null,
      "outputs": [
        {
          "output_type": "stream",
          "name": "stdout",
          "text": [
            "200\n"
          ]
        }
      ]
    },
    {
      "cell_type": "code",
      "metadata": {
        "colab": {
          "base_uri": "https://localhost:8080/"
        },
        "id": "PrlWZ1Y5DEZK",
        "outputId": "08ca204a-2e62-4da5-a7b7-13096644a5d1"
      },
      "source": [
        "for name,score in scoring_class.items():\n",
        "  print(name ,(score(real_pred.iloc[0:200 , 1 ] , y_predd)))"
      ],
      "execution_count": null,
      "outputs": [
        {
          "output_type": "stream",
          "name": "stdout",
          "text": [
            "accuracy_score 0.88\n",
            "f1_score 0.0\n",
            "confusion_matrix [[176   0]\n",
            " [ 24   0]]\n",
            "classification_report               precision    recall  f1-score   support\n",
            "\n",
            "           0       0.88      1.00      0.94       176\n",
            "           1       0.00      0.00      0.00        24\n",
            "\n",
            "    accuracy                           0.88       200\n",
            "   macro avg       0.44      0.50      0.47       200\n",
            "weighted avg       0.77      0.88      0.82       200\n",
            "\n"
          ]
        },
        {
          "output_type": "stream",
          "name": "stderr",
          "text": [
            "/usr/local/lib/python3.7/dist-packages/sklearn/metrics/_classification.py:1272: UndefinedMetricWarning: Precision and F-score are ill-defined and being set to 0.0 in labels with no predicted samples. Use `zero_division` parameter to control this behavior.\n",
            "  _warn_prf(average, modifier, msg_start, len(result))\n"
          ]
        }
      ]
    },
    {
      "cell_type": "markdown",
      "metadata": {
        "id": "KPbHEZKvkcfy"
      },
      "source": [
        "Decision Tree Classifier"
      ]
    },
    {
      "cell_type": "code",
      "metadata": {
        "colab": {
          "base_uri": "https://localhost:8080/"
        },
        "id": "KZreCQUjiD_M",
        "outputId": "c553870c-e6a4-4185-d737-2268f35364e8"
      },
      "source": [
        "from sklearn.tree import DecisionTreeClassifier\n",
        "\n",
        "clf_gini = DecisionTreeClassifier(criterion = \"gini\",\n",
        "             min_samples_leaf=2 , max_depth=40 )\n",
        "\n",
        "clf_gini.fit(X_train,y_train)\n",
        "\n",
        "for name,score in scoring_class.items():\n",
        "  print(name ,(score(real_y , clf_gini.predict(X_test))))"
      ],
      "execution_count": null,
      "outputs": [
        {
          "output_type": "stream",
          "name": "stdout",
          "text": [
            "accuracy_score 0.7852142857142858\n",
            "f1_score 0.11688693098384728\n",
            "confusion_matrix [[21588  2819]\n",
            " [ 3195   398]]\n",
            "classification_report               precision    recall  f1-score   support\n",
            "\n",
            "           0       0.87      0.88      0.88     24407\n",
            "           1       0.12      0.11      0.12      3593\n",
            "\n",
            "    accuracy                           0.79     28000\n",
            "   macro avg       0.50      0.50      0.50     28000\n",
            "weighted avg       0.78      0.79      0.78     28000\n",
            "\n"
          ]
        }
      ]
    },
    {
      "cell_type": "markdown",
      "metadata": {
        "id": "7WCieH3ulqhB"
      },
      "source": [
        "logistic regression"
      ]
    },
    {
      "cell_type": "code",
      "metadata": {
        "colab": {
          "base_uri": "https://localhost:8080/"
        },
        "id": "2vP4WyvtlqTh",
        "outputId": "7efc701b-8370-4384-aa01-5833cdbb01cc"
      },
      "source": [
        "from sklearn.linear_model import LogisticRegression\n",
        "logisticRegr = LogisticRegression(solver='liblinear')\n",
        "logisticRegr.fit(X_train, y_train)\n",
        "\n",
        "for name,score in scoring_class.items():\n",
        "  print(name ,(score(real_y , logisticRegr.predict(X_test))))"
      ],
      "execution_count": null,
      "outputs": [
        {
          "output_type": "stream",
          "name": "stdout",
          "text": [
            "accuracy_score 0.8716785714285714\n",
            "f1_score 0.0\n",
            "confusion_matrix [[24407     0]\n",
            " [ 3593     0]]\n",
            "classification_report               precision    recall  f1-score   support\n",
            "\n",
            "           0       0.87      1.00      0.93     24407\n",
            "           1       0.00      0.00      0.00      3593\n",
            "\n",
            "    accuracy                           0.87     28000\n",
            "   macro avg       0.44      0.50      0.47     28000\n",
            "weighted avg       0.76      0.87      0.81     28000\n",
            "\n"
          ]
        },
        {
          "output_type": "stream",
          "name": "stderr",
          "text": [
            "/usr/local/lib/python3.7/dist-packages/sklearn/metrics/_classification.py:1272: UndefinedMetricWarning: Precision and F-score are ill-defined and being set to 0.0 in labels with no predicted samples. Use `zero_division` parameter to control this behavior.\n",
            "  _warn_prf(average, modifier, msg_start, len(result))\n"
          ]
        }
      ]
    },
    {
      "cell_type": "markdown",
      "metadata": {
        "id": "vqOGiA46nAh_"
      },
      "source": [
        "my own code"
      ]
    },
    {
      "cell_type": "code",
      "metadata": {
        "colab": {
          "base_uri": "https://localhost:8080/"
        },
        "id": "FIoezb9PmmDw",
        "outputId": "71b81d63-7ef2-47f9-b48a-6a16df925730"
      },
      "source": [
        "x1 = train_df['Income']\n",
        "x1.to_numpy()\n",
        "\n",
        "x2=train_df['Age']\n",
        "x2.to_numpy()\n",
        "\n",
        "x3=train_df['Experience']\n",
        "x3.to_numpy()\n",
        "\n",
        "x4=train_df['Car_Ownership']\n",
        "x4.to_numpy()\n",
        "\n",
        "x5=train_df['CURRENT_JOB_YRS']\n",
        "x5.to_numpy()\n",
        "\n",
        "x6=train_df['CURRENT_HOUSE_YRS']\n",
        "x6.to_numpy()\n",
        "\n",
        "x7=train_df['low_experience']\n",
        "x7.to_numpy()\n",
        "\n",
        "x8=train_df['med_experience']\n",
        "x8.to_numpy()\n",
        "\n",
        "x9=train_df['high_experience']\n",
        "x9.to_numpy()\n",
        "\n",
        "x10=train_df['married']\n",
        "x10.to_numpy()\n",
        "\n",
        "x11=train_df['single']\n",
        "x11.to_numpy()\n",
        "\n",
        "x12=train_df['norent_noown']\n",
        "x12.to_numpy()\n",
        "\n",
        "x13=train_df['owned']\n",
        "x13.to_numpy()\n",
        "\n",
        "x14=train_df['rented']\n",
        "x14.to_numpy()\n",
        "\n"
      ],
      "execution_count": null,
      "outputs": [
        {
          "output_type": "execute_result",
          "data": {
            "text/plain": [
              "array([1., 1., 1., ..., 1., 1., 1.])"
            ]
          },
          "metadata": {},
          "execution_count": 196
        }
      ]
    },
    {
      "cell_type": "code",
      "metadata": {
        "colab": {
          "base_uri": "https://localhost:8080/"
        },
        "id": "5lQUoHu1ny00",
        "outputId": "f53bdaaf-cb8a-46b1-a84a-16381e281ce3"
      },
      "source": [
        "h0 = 0\n",
        "h1 = 0\n",
        "h2 = 0\n",
        "h3 = 0\n",
        "h4 = 0\n",
        "h5 = 0\n",
        "h6 = 0\n",
        "h7 = 0\n",
        "h8 = 0\n",
        "h9 = 0\n",
        "h10 = 0\n",
        "h11 = 0\n",
        "h12 = 0\n",
        "h13 = 0\n",
        "h14 = 0\n",
        "\n",
        "lr = 0.001\n",
        "h0_lis=[]\n",
        "h1_lis=[]\n",
        "h2_lis=[]\n",
        "h3_lis=[]\n",
        "\n",
        "loss_funcc=[]\n",
        "Epochs = []\n",
        "\n",
        "for i in range (1000):\n",
        "    \n",
        "    Epochs.append(i)\n",
        "    hx = 1 / (1 + np.exp((-1)*(h0 + h1*x1 + h2*x2 + h3*x3 + h4*x4 + h5*x5 + h6*x6 + h7*x7 + h8*x8 + h9*x9 + h10*x10 + h11*x11 + h12*x12 + h13*x13 + h14*x14) ))\n",
        "    \n",
        "    #cost_func = (1/(2*len(x1)))*sum((hx-y)**2)\n",
        "    \n",
        "    cost_func = (-1 / len(x1)) *(sum((y_train*np.log(hx))+((1-y_train)*(np.log(hx)))))\n",
        "    \n",
        "    loss_funcc.append(cost_func)\n",
        "    \n",
        "    \n",
        "    g0 =  (1 / len(x1)) * np.sum(hx - y_train)\n",
        "    g1 =  (1 / len(x1)) * np.sum((hx - y_train) * x1)\n",
        "    g2 =  (1 / len(x2)) * np.sum((hx - y_train) * x2)\n",
        "    g3 =  (1 / len(x3)) * np.sum((hx - y_train) * x3)\n",
        "    g4 =  (1 / len(x4)) * np.sum((hx - y_train) * x4)\n",
        "    g5 =  (1 / len(x5)) * np.sum((hx - y_train) * x5)\n",
        "    g6 = (1 / len(x6)) * np.sum((hx - y_train) * x6)\n",
        "    g7 = (1 / len(x7)) * np.sum((hx - y_train) * x7)\n",
        "    g8 = (1 / len(x8)) * np.sum((hx - y_train) * x8)\n",
        "    g9 = (1 / len(x9)) * np.sum((hx - y_train) * x9)\n",
        "    g10 = (1 / len(x10)) * np.sum((hx - y_train) * x10)\n",
        "    g11 = (1 / len(x11)) * np.sum((hx - y_train) * x11)\n",
        "    g12 = (1 / len(x12)) * np.sum((hx - y_train) * x12)\n",
        "    g13 = (1 / len(x13)) * np.sum((hx - y_train) * x13)\n",
        "    g14 = (1 / len(x14)) * np.sum((hx - y_train) * x14)\n",
        "                                \n",
        "                                 \n",
        "                                 \n",
        "                                 \n",
        "                                 \n",
        "                                 \n",
        "                                 \n",
        "    \n",
        "    \n",
        "    h0 = h0-(lr*g0)\n",
        "    h1 = h1 - (lr*g1)\n",
        "    h2 = h2 - (lr*g2)\n",
        "    h3 = h3 - (lr*g3)\n",
        "    h4 = h4 - (lr*g4)\n",
        "    h5 = h5 - (lr*g5)\n",
        "    h6 = h6 - (lr*g6)\n",
        "    h7 = h7 - (lr*g7)\n",
        "    h8 = h8 - (lr*g8)\n",
        "    h9 = h9 - (lr*g9)\n",
        "    h10 = h10 - (lr*g10)\n",
        "    h11 = h11 - (lr*g11)\n",
        "    h12 = h12 - (lr*g12)\n",
        "    h13 = h13 - (lr*g13)\n",
        "    h14 = h14 - (lr*g14)\n",
        "\n",
        "\n",
        "\n",
        "    \n",
        "    h0_lis.append(h0)\n",
        "    h1_lis.append(h1)\n",
        "    h2_lis.append(h2)\n",
        "    h3_lis.append(h3)"
      ],
      "execution_count": null,
      "outputs": [
        {
          "output_type": "stream",
          "name": "stderr",
          "text": [
            "/usr/local/lib/python3.7/dist-packages/pandas/core/series.py:726: RuntimeWarning: overflow encountered in exp\n",
            "  result = getattr(ufunc, method)(*inputs, **kwargs)\n",
            "/usr/local/lib/python3.7/dist-packages/pandas/core/series.py:726: RuntimeWarning: divide by zero encountered in log\n",
            "  result = getattr(ufunc, method)(*inputs, **kwargs)\n"
          ]
        }
      ]
    },
    {
      "cell_type": "code",
      "metadata": {
        "colab": {
          "base_uri": "https://localhost:8080/"
        },
        "id": "Cf4pzNYzpU_5",
        "outputId": "52ea27db-644e-4976-b139-791af0256652"
      },
      "source": [
        "x1 = test_df['Income']\n",
        "x1.to_numpy()\n",
        "\n",
        "x2=test_df['Age']\n",
        "x2.to_numpy()\n",
        "\n",
        "x3=test_df['Experience']\n",
        "x3.to_numpy()\n",
        "\n",
        "x4=test_df['Car_Ownership']\n",
        "x4.to_numpy()\n",
        "\n",
        "x5=test_df['CURRENT_JOB_YRS']\n",
        "x5.to_numpy()\n",
        "\n",
        "x6=test_df['CURRENT_HOUSE_YRS']\n",
        "x6.to_numpy()\n",
        "\n",
        "x7=test_df['low_experience']\n",
        "x7.to_numpy()\n",
        "\n",
        "x8=test_df['med_experience']\n",
        "x8.to_numpy()\n",
        "\n",
        "x9=test_df['high_experience']\n",
        "x9.to_numpy()\n",
        "\n",
        "x10=test_df['married']\n",
        "x10.to_numpy()\n",
        "\n",
        "x11=test_df['single']\n",
        "x11.to_numpy()\n",
        "\n",
        "x12=test_df['norent_noown']\n",
        "x12.to_numpy()\n",
        "\n",
        "x13=test_df['owned']\n",
        "x13.to_numpy()\n",
        "\n",
        "x14=test_df['rented']\n",
        "x14.to_numpy()\n"
      ],
      "execution_count": null,
      "outputs": [
        {
          "output_type": "execute_result",
          "data": {
            "text/plain": [
              "array([1., 1., 1., ..., 1., 1., 1.])"
            ]
          },
          "metadata": {},
          "execution_count": 257
        }
      ]
    },
    {
      "cell_type": "code",
      "metadata": {
        "colab": {
          "base_uri": "https://localhost:8080/"
        },
        "id": "gYXNs-z0pkIu",
        "outputId": "e9948800-8934-4fff-d866-779dce8a47c5"
      },
      "source": [
        "pre_y = hx = 1 / (1 + np.exp((-1)*(h0 + h1*x1 + h2*x2 + h3*x3 + h4*x4 + h5*x5 + h6*x6 + h7*x7 + h8*x8 + h9*x9 + h10*x10 + h11*x11 + h12*x12 + h13*x13 + h14*x14 ) ))"
      ],
      "execution_count": null,
      "outputs": [
        {
          "output_type": "stream",
          "name": "stderr",
          "text": [
            "/usr/local/lib/python3.7/dist-packages/pandas/core/series.py:726: RuntimeWarning: overflow encountered in exp\n",
            "  result = getattr(ufunc, method)(*inputs, **kwargs)\n"
          ]
        }
      ]
    },
    {
      "cell_type": "code",
      "metadata": {
        "colab": {
          "base_uri": "https://localhost:8080/"
        },
        "id": "g3xVtLqPrVYl",
        "outputId": "ea668454-8c09-44fa-d9c5-85efe5c44c3b"
      },
      "source": [
        "pre_y.shape"
      ],
      "execution_count": null,
      "outputs": [
        {
          "output_type": "execute_result",
          "data": {
            "text/plain": [
              "(28000,)"
            ]
          },
          "metadata": {},
          "execution_count": 259
        }
      ]
    },
    {
      "cell_type": "code",
      "metadata": {
        "id": "ZmxGcAMIrZqn"
      },
      "source": [
        "pre_y = pre_y.values.reshape(1,28000)\n",
        "re_y = real_y.values.reshape(1,28000)"
      ],
      "execution_count": null,
      "outputs": []
    },
    {
      "cell_type": "code",
      "metadata": {
        "colab": {
          "base_uri": "https://localhost:8080/"
        },
        "id": "T9iiRpE6rQwg",
        "outputId": "d832ec1a-dc7b-4696-9aa5-6ecefe50f3e1"
      },
      "source": [
        "predicted_classes = (pre_y >= 0.5).astype(int)\n",
        "\n",
        "\n",
        "predicted_classes = predicted_classes.flatten()\n",
        "\n",
        "accuracy = np.mean(predicted_classes == re_y.flatten())\n",
        "print(accuracy)"
      ],
      "execution_count": null,
      "outputs": [
        {
          "output_type": "stream",
          "name": "stdout",
          "text": [
            "0.8716785714285714\n"
          ]
        }
      ]
    },
    {
      "cell_type": "markdown",
      "metadata": {
        "id": "8UN2Hv57vLbg"
      },
      "source": [
        "SVC"
      ]
    },
    {
      "cell_type": "code",
      "metadata": {
        "colab": {
          "base_uri": "https://localhost:8080/"
        },
        "id": "U4VD9mhFsTWO",
        "outputId": "ec4780fd-7563-4637-daf4-b672c9809c0c"
      },
      "source": [
        "from sklearn.svm import LinearSVC  \n",
        "clf = LinearSVC()\n",
        "clf.fit(X_train , y_train)\n",
        "\n",
        "for name,score in scoring_class.items():\n",
        "  print(name ,(score(real_y , clf.predict(X_test))))"
      ],
      "execution_count": null,
      "outputs": [
        {
          "output_type": "stream",
          "name": "stdout",
          "text": [
            "accuracy_score 0.31689285714285714\n",
            "f1_score 0.2190192315544486\n",
            "confusion_matrix [[ 6191 18216]\n",
            " [  911  2682]]\n",
            "classification_report               precision    recall  f1-score   support\n",
            "\n",
            "           0       0.87      0.25      0.39     24407\n",
            "           1       0.13      0.75      0.22      3593\n",
            "\n",
            "    accuracy                           0.32     28000\n",
            "   macro avg       0.50      0.50      0.31     28000\n",
            "weighted avg       0.78      0.32      0.37     28000\n",
            "\n"
          ]
        },
        {
          "output_type": "stream",
          "name": "stderr",
          "text": [
            "/usr/local/lib/python3.7/dist-packages/sklearn/svm/_base.py:947: ConvergenceWarning: Liblinear failed to converge, increase the number of iterations.\n",
            "  \"the number of iterations.\", ConvergenceWarning)\n"
          ]
        }
      ]
    },
    {
      "cell_type": "markdown",
      "metadata": {
        "id": "WIyoRR3y_2-t"
      },
      "source": [
        "REGRESSION"
      ]
    },
    {
      "cell_type": "code",
      "metadata": {
        "colab": {
          "base_uri": "https://localhost:8080/",
          "height": 223
        },
        "id": "1TrIeZibLznY",
        "outputId": "bca30208-1b5b-4b19-ad1c-e4695691c519"
      },
      "source": [
        "train_df.head()"
      ],
      "execution_count": null,
      "outputs": [
        {
          "output_type": "execute_result",
          "data": {
            "text/html": [
              "<div>\n",
              "<style scoped>\n",
              "    .dataframe tbody tr th:only-of-type {\n",
              "        vertical-align: middle;\n",
              "    }\n",
              "\n",
              "    .dataframe tbody tr th {\n",
              "        vertical-align: top;\n",
              "    }\n",
              "\n",
              "    .dataframe thead th {\n",
              "        text-align: right;\n",
              "    }\n",
              "</style>\n",
              "<table border=\"1\" class=\"dataframe\">\n",
              "  <thead>\n",
              "    <tr style=\"text-align: right;\">\n",
              "      <th></th>\n",
              "      <th>Income</th>\n",
              "      <th>Age</th>\n",
              "      <th>Experience</th>\n",
              "      <th>Car_Ownership</th>\n",
              "      <th>CURRENT_JOB_YRS</th>\n",
              "      <th>CURRENT_HOUSE_YRS</th>\n",
              "      <th>Risk_Flag</th>\n",
              "      <th>low_experience</th>\n",
              "      <th>med_experience</th>\n",
              "      <th>high_experience</th>\n",
              "      <th>married</th>\n",
              "      <th>single</th>\n",
              "      <th>norent_noown</th>\n",
              "      <th>owned</th>\n",
              "      <th>rented</th>\n",
              "      <th>Air_traffic_controller</th>\n",
              "      <th>Analyst</th>\n",
              "      <th>Architect</th>\n",
              "      <th>Army_officer</th>\n",
              "      <th>Artist</th>\n",
              "      <th>Aviator</th>\n",
              "      <th>Biomedical_Engineer</th>\n",
              "      <th>Chartered_Accountant</th>\n",
              "      <th>Chef</th>\n",
              "      <th>Chemical_engineer</th>\n",
              "      <th>Civil_engineer</th>\n",
              "      <th>Civil_servant</th>\n",
              "      <th>Comedian</th>\n",
              "      <th>Computer_hardware_engineer</th>\n",
              "      <th>Computer_operator</th>\n",
              "      <th>Consultant</th>\n",
              "      <th>Dentist</th>\n",
              "      <th>Design_Engineer</th>\n",
              "      <th>Designer</th>\n",
              "      <th>Drafter</th>\n",
              "      <th>Economist</th>\n",
              "      <th>Engineer</th>\n",
              "      <th>Fashion_Designer</th>\n",
              "      <th>Financial_Analyst</th>\n",
              "      <th>Firefighter</th>\n",
              "      <th>Flight_attendant</th>\n",
              "      <th>Geologist</th>\n",
              "      <th>Graphic_Designer</th>\n",
              "      <th>Hotel_Manager</th>\n",
              "      <th>Industrial_Engineer</th>\n",
              "      <th>Lawyer</th>\n",
              "      <th>Librarian</th>\n",
              "      <th>Magistrate</th>\n",
              "      <th>Mechanical_engineer</th>\n",
              "      <th>Microbiologist</th>\n",
              "      <th>Official</th>\n",
              "      <th>Petroleum_Engineer</th>\n",
              "      <th>Physician</th>\n",
              "      <th>Police_officer</th>\n",
              "      <th>Politician</th>\n",
              "      <th>Psychologist</th>\n",
              "      <th>Scientist</th>\n",
              "      <th>Secretary</th>\n",
              "      <th>Software_Developer</th>\n",
              "      <th>Statistician</th>\n",
              "      <th>Surgeon</th>\n",
              "      <th>Surveyor</th>\n",
              "      <th>Technical_writer</th>\n",
              "      <th>Technician</th>\n",
              "      <th>Technology_specialist</th>\n",
              "      <th>Web_designer</th>\n",
              "    </tr>\n",
              "  </thead>\n",
              "  <tbody>\n",
              "    <tr>\n",
              "      <th>0</th>\n",
              "      <td>1303834</td>\n",
              "      <td>23</td>\n",
              "      <td>3</td>\n",
              "      <td>0</td>\n",
              "      <td>3</td>\n",
              "      <td>13</td>\n",
              "      <td>0</td>\n",
              "      <td>1</td>\n",
              "      <td>0</td>\n",
              "      <td>0</td>\n",
              "      <td>0.0</td>\n",
              "      <td>1.0</td>\n",
              "      <td>0.0</td>\n",
              "      <td>0.0</td>\n",
              "      <td>1.0</td>\n",
              "      <td>0.0</td>\n",
              "      <td>0.0</td>\n",
              "      <td>0.0</td>\n",
              "      <td>0.0</td>\n",
              "      <td>0.0</td>\n",
              "      <td>0.0</td>\n",
              "      <td>0.0</td>\n",
              "      <td>0.0</td>\n",
              "      <td>0.0</td>\n",
              "      <td>0.0</td>\n",
              "      <td>0.0</td>\n",
              "      <td>0.0</td>\n",
              "      <td>0.0</td>\n",
              "      <td>0.0</td>\n",
              "      <td>0.0</td>\n",
              "      <td>0.0</td>\n",
              "      <td>0.0</td>\n",
              "      <td>0.0</td>\n",
              "      <td>0.0</td>\n",
              "      <td>0.0</td>\n",
              "      <td>0.0</td>\n",
              "      <td>0.0</td>\n",
              "      <td>0.0</td>\n",
              "      <td>0.0</td>\n",
              "      <td>0.0</td>\n",
              "      <td>0.0</td>\n",
              "      <td>0.0</td>\n",
              "      <td>0.0</td>\n",
              "      <td>0.0</td>\n",
              "      <td>0.0</td>\n",
              "      <td>0.0</td>\n",
              "      <td>0.0</td>\n",
              "      <td>0.0</td>\n",
              "      <td>1.0</td>\n",
              "      <td>0.0</td>\n",
              "      <td>0.0</td>\n",
              "      <td>0.0</td>\n",
              "      <td>0.0</td>\n",
              "      <td>0.0</td>\n",
              "      <td>0.0</td>\n",
              "      <td>0.0</td>\n",
              "      <td>0.0</td>\n",
              "      <td>0.0</td>\n",
              "      <td>0.0</td>\n",
              "      <td>0.0</td>\n",
              "      <td>0.0</td>\n",
              "      <td>0.0</td>\n",
              "      <td>0.0</td>\n",
              "      <td>0.0</td>\n",
              "      <td>0.0</td>\n",
              "      <td>0.0</td>\n",
              "    </tr>\n",
              "    <tr>\n",
              "      <th>1</th>\n",
              "      <td>7574516</td>\n",
              "      <td>40</td>\n",
              "      <td>10</td>\n",
              "      <td>0</td>\n",
              "      <td>9</td>\n",
              "      <td>13</td>\n",
              "      <td>0</td>\n",
              "      <td>0</td>\n",
              "      <td>1</td>\n",
              "      <td>0</td>\n",
              "      <td>0.0</td>\n",
              "      <td>1.0</td>\n",
              "      <td>0.0</td>\n",
              "      <td>0.0</td>\n",
              "      <td>1.0</td>\n",
              "      <td>0.0</td>\n",
              "      <td>0.0</td>\n",
              "      <td>0.0</td>\n",
              "      <td>0.0</td>\n",
              "      <td>0.0</td>\n",
              "      <td>0.0</td>\n",
              "      <td>0.0</td>\n",
              "      <td>0.0</td>\n",
              "      <td>0.0</td>\n",
              "      <td>0.0</td>\n",
              "      <td>0.0</td>\n",
              "      <td>0.0</td>\n",
              "      <td>0.0</td>\n",
              "      <td>0.0</td>\n",
              "      <td>0.0</td>\n",
              "      <td>0.0</td>\n",
              "      <td>0.0</td>\n",
              "      <td>0.0</td>\n",
              "      <td>0.0</td>\n",
              "      <td>0.0</td>\n",
              "      <td>0.0</td>\n",
              "      <td>0.0</td>\n",
              "      <td>0.0</td>\n",
              "      <td>0.0</td>\n",
              "      <td>0.0</td>\n",
              "      <td>0.0</td>\n",
              "      <td>0.0</td>\n",
              "      <td>0.0</td>\n",
              "      <td>0.0</td>\n",
              "      <td>0.0</td>\n",
              "      <td>0.0</td>\n",
              "      <td>0.0</td>\n",
              "      <td>0.0</td>\n",
              "      <td>0.0</td>\n",
              "      <td>0.0</td>\n",
              "      <td>0.0</td>\n",
              "      <td>0.0</td>\n",
              "      <td>0.0</td>\n",
              "      <td>0.0</td>\n",
              "      <td>0.0</td>\n",
              "      <td>0.0</td>\n",
              "      <td>0.0</td>\n",
              "      <td>0.0</td>\n",
              "      <td>1.0</td>\n",
              "      <td>0.0</td>\n",
              "      <td>0.0</td>\n",
              "      <td>0.0</td>\n",
              "      <td>0.0</td>\n",
              "      <td>0.0</td>\n",
              "      <td>0.0</td>\n",
              "      <td>0.0</td>\n",
              "    </tr>\n",
              "    <tr>\n",
              "      <th>2</th>\n",
              "      <td>3991815</td>\n",
              "      <td>66</td>\n",
              "      <td>4</td>\n",
              "      <td>0</td>\n",
              "      <td>4</td>\n",
              "      <td>10</td>\n",
              "      <td>0</td>\n",
              "      <td>1</td>\n",
              "      <td>0</td>\n",
              "      <td>0</td>\n",
              "      <td>1.0</td>\n",
              "      <td>0.0</td>\n",
              "      <td>0.0</td>\n",
              "      <td>0.0</td>\n",
              "      <td>1.0</td>\n",
              "      <td>0.0</td>\n",
              "      <td>0.0</td>\n",
              "      <td>0.0</td>\n",
              "      <td>0.0</td>\n",
              "      <td>0.0</td>\n",
              "      <td>0.0</td>\n",
              "      <td>0.0</td>\n",
              "      <td>0.0</td>\n",
              "      <td>0.0</td>\n",
              "      <td>0.0</td>\n",
              "      <td>0.0</td>\n",
              "      <td>0.0</td>\n",
              "      <td>0.0</td>\n",
              "      <td>0.0</td>\n",
              "      <td>0.0</td>\n",
              "      <td>0.0</td>\n",
              "      <td>0.0</td>\n",
              "      <td>0.0</td>\n",
              "      <td>0.0</td>\n",
              "      <td>0.0</td>\n",
              "      <td>0.0</td>\n",
              "      <td>0.0</td>\n",
              "      <td>0.0</td>\n",
              "      <td>0.0</td>\n",
              "      <td>0.0</td>\n",
              "      <td>0.0</td>\n",
              "      <td>0.0</td>\n",
              "      <td>0.0</td>\n",
              "      <td>0.0</td>\n",
              "      <td>0.0</td>\n",
              "      <td>0.0</td>\n",
              "      <td>0.0</td>\n",
              "      <td>0.0</td>\n",
              "      <td>0.0</td>\n",
              "      <td>0.0</td>\n",
              "      <td>0.0</td>\n",
              "      <td>0.0</td>\n",
              "      <td>0.0</td>\n",
              "      <td>0.0</td>\n",
              "      <td>0.0</td>\n",
              "      <td>0.0</td>\n",
              "      <td>0.0</td>\n",
              "      <td>0.0</td>\n",
              "      <td>0.0</td>\n",
              "      <td>0.0</td>\n",
              "      <td>0.0</td>\n",
              "      <td>0.0</td>\n",
              "      <td>1.0</td>\n",
              "      <td>0.0</td>\n",
              "      <td>0.0</td>\n",
              "      <td>0.0</td>\n",
              "    </tr>\n",
              "    <tr>\n",
              "      <th>3</th>\n",
              "      <td>6256451</td>\n",
              "      <td>41</td>\n",
              "      <td>2</td>\n",
              "      <td>1</td>\n",
              "      <td>2</td>\n",
              "      <td>12</td>\n",
              "      <td>1</td>\n",
              "      <td>1</td>\n",
              "      <td>0</td>\n",
              "      <td>0</td>\n",
              "      <td>0.0</td>\n",
              "      <td>1.0</td>\n",
              "      <td>0.0</td>\n",
              "      <td>0.0</td>\n",
              "      <td>1.0</td>\n",
              "      <td>0.0</td>\n",
              "      <td>0.0</td>\n",
              "      <td>0.0</td>\n",
              "      <td>0.0</td>\n",
              "      <td>0.0</td>\n",
              "      <td>0.0</td>\n",
              "      <td>0.0</td>\n",
              "      <td>0.0</td>\n",
              "      <td>0.0</td>\n",
              "      <td>0.0</td>\n",
              "      <td>0.0</td>\n",
              "      <td>0.0</td>\n",
              "      <td>0.0</td>\n",
              "      <td>0.0</td>\n",
              "      <td>0.0</td>\n",
              "      <td>0.0</td>\n",
              "      <td>0.0</td>\n",
              "      <td>0.0</td>\n",
              "      <td>0.0</td>\n",
              "      <td>0.0</td>\n",
              "      <td>0.0</td>\n",
              "      <td>0.0</td>\n",
              "      <td>0.0</td>\n",
              "      <td>0.0</td>\n",
              "      <td>0.0</td>\n",
              "      <td>0.0</td>\n",
              "      <td>0.0</td>\n",
              "      <td>0.0</td>\n",
              "      <td>0.0</td>\n",
              "      <td>0.0</td>\n",
              "      <td>0.0</td>\n",
              "      <td>0.0</td>\n",
              "      <td>0.0</td>\n",
              "      <td>0.0</td>\n",
              "      <td>0.0</td>\n",
              "      <td>0.0</td>\n",
              "      <td>0.0</td>\n",
              "      <td>0.0</td>\n",
              "      <td>0.0</td>\n",
              "      <td>0.0</td>\n",
              "      <td>0.0</td>\n",
              "      <td>0.0</td>\n",
              "      <td>0.0</td>\n",
              "      <td>1.0</td>\n",
              "      <td>0.0</td>\n",
              "      <td>0.0</td>\n",
              "      <td>0.0</td>\n",
              "      <td>0.0</td>\n",
              "      <td>0.0</td>\n",
              "      <td>0.0</td>\n",
              "      <td>0.0</td>\n",
              "    </tr>\n",
              "    <tr>\n",
              "      <th>4</th>\n",
              "      <td>5768871</td>\n",
              "      <td>47</td>\n",
              "      <td>11</td>\n",
              "      <td>0</td>\n",
              "      <td>3</td>\n",
              "      <td>14</td>\n",
              "      <td>1</td>\n",
              "      <td>1</td>\n",
              "      <td>0</td>\n",
              "      <td>0</td>\n",
              "      <td>0.0</td>\n",
              "      <td>1.0</td>\n",
              "      <td>0.0</td>\n",
              "      <td>0.0</td>\n",
              "      <td>1.0</td>\n",
              "      <td>0.0</td>\n",
              "      <td>0.0</td>\n",
              "      <td>0.0</td>\n",
              "      <td>0.0</td>\n",
              "      <td>0.0</td>\n",
              "      <td>0.0</td>\n",
              "      <td>0.0</td>\n",
              "      <td>0.0</td>\n",
              "      <td>0.0</td>\n",
              "      <td>0.0</td>\n",
              "      <td>0.0</td>\n",
              "      <td>1.0</td>\n",
              "      <td>0.0</td>\n",
              "      <td>0.0</td>\n",
              "      <td>0.0</td>\n",
              "      <td>0.0</td>\n",
              "      <td>0.0</td>\n",
              "      <td>0.0</td>\n",
              "      <td>0.0</td>\n",
              "      <td>0.0</td>\n",
              "      <td>0.0</td>\n",
              "      <td>0.0</td>\n",
              "      <td>0.0</td>\n",
              "      <td>0.0</td>\n",
              "      <td>0.0</td>\n",
              "      <td>0.0</td>\n",
              "      <td>0.0</td>\n",
              "      <td>0.0</td>\n",
              "      <td>0.0</td>\n",
              "      <td>0.0</td>\n",
              "      <td>0.0</td>\n",
              "      <td>0.0</td>\n",
              "      <td>0.0</td>\n",
              "      <td>0.0</td>\n",
              "      <td>0.0</td>\n",
              "      <td>0.0</td>\n",
              "      <td>0.0</td>\n",
              "      <td>0.0</td>\n",
              "      <td>0.0</td>\n",
              "      <td>0.0</td>\n",
              "      <td>0.0</td>\n",
              "      <td>0.0</td>\n",
              "      <td>0.0</td>\n",
              "      <td>0.0</td>\n",
              "      <td>0.0</td>\n",
              "      <td>0.0</td>\n",
              "      <td>0.0</td>\n",
              "      <td>0.0</td>\n",
              "      <td>0.0</td>\n",
              "      <td>0.0</td>\n",
              "      <td>0.0</td>\n",
              "    </tr>\n",
              "  </tbody>\n",
              "</table>\n",
              "</div>"
            ],
            "text/plain": [
              "    Income  Age  Experience  ...  Technician  Technology_specialist  Web_designer\n",
              "0  1303834   23           3  ...         0.0                    0.0           0.0\n",
              "1  7574516   40          10  ...         0.0                    0.0           0.0\n",
              "2  3991815   66           4  ...         0.0                    0.0           0.0\n",
              "3  6256451   41           2  ...         0.0                    0.0           0.0\n",
              "4  5768871   47          11  ...         0.0                    0.0           0.0\n",
              "\n",
              "[5 rows x 66 columns]"
            ]
          },
          "metadata": {},
          "execution_count": 263
        }
      ]
    },
    {
      "cell_type": "code",
      "metadata": {
        "id": "JyqXOPV3iTVP"
      },
      "source": [
        ""
      ],
      "execution_count": null,
      "outputs": []
    },
    {
      "cell_type": "code",
      "metadata": {
        "id": "G08qS-lnwS1s"
      },
      "source": [
        "X_train = train_df[[ 'Age', 'Experience', 'Car_Ownership', 'CURRENT_JOB_YRS',\n",
        "       'CURRENT_HOUSE_YRS',  'low_experience', 'med_experience',\n",
        "       'high_experience', 'married', 'single', 'norent_noown', 'owned',\n",
        "       'rented', 'Air_traffic_controller', 'Analyst', 'Architect',\n",
        "       'Army_officer', 'Artist', 'Aviator', 'Biomedical_Engineer',\n",
        "       'Chartered_Accountant', 'Chef', 'Chemical_engineer', 'Civil_engineer',\n",
        "       'Civil_servant', 'Comedian', 'Computer_hardware_engineer',\n",
        "       'Computer_operator', 'Consultant', 'Dentist', 'Design_Engineer',\n",
        "       'Designer', 'Drafter', 'Economist', 'Engineer', 'Fashion_Designer',\n",
        "       'Financial_Analyst', 'Firefighter', 'Flight_attendant', 'Geologist',\n",
        "       'Graphic_Designer', 'Hotel_Manager', 'Industrial_Engineer', 'Lawyer',\n",
        "       'Librarian', 'Magistrate', 'Mechanical_engineer', 'Microbiologist',\n",
        "       'Official', 'Petroleum_Engineer', 'Physician', 'Police_officer',\n",
        "       'Politician', 'Psychologist', 'Scientist', 'Secretary',\n",
        "       'Software_Developer', 'Statistician', 'Surgeon', 'Surveyor',\n",
        "       'Technical_writer', 'Technician', 'Technology_specialist',\n",
        "       'Web_designer' ]]\n",
        "\n",
        "y_train = train_df['Income']\n",
        "\n",
        "X_test = test_df[[  'Age', 'Experience', 'Car_Ownership', 'CURRENT_JOB_YRS',\n",
        "       'CURRENT_HOUSE_YRS',  'low_experience', 'med_experience',\n",
        "       'high_experience', 'married', 'single', 'norent_noown', 'owned',\n",
        "       'rented', 'Air_traffic_controller', 'Analyst', 'Architect',\n",
        "       'Army_officer', 'Artist', 'Aviator', 'Biomedical_Engineer',\n",
        "       'Chartered_Accountant', 'Chef', 'Chemical_engineer', 'Civil_engineer',\n",
        "       'Civil_servant', 'Comedian', 'Computer_hardware_engineer',\n",
        "       'Computer_operator', 'Consultant', 'Dentist', 'Design_Engineer',\n",
        "       'Designer', 'Drafter', 'Economist', 'Engineer', 'Fashion_Designer',\n",
        "       'Financial_Analyst', 'Firefighter', 'Flight_attendant', 'Geologist',\n",
        "       'Graphic_Designer', 'Hotel_Manager', 'Industrial_Engineer', 'Lawyer',\n",
        "       'Librarian', 'Magistrate', 'Mechanical_engineer', 'Microbiologist',\n",
        "       'Official', 'Petroleum_Engineer', 'Physician', 'Police_officer',\n",
        "       'Politician', 'Psychologist', 'Scientist', 'Secretary',\n",
        "       'Software_Developer', 'Statistician', 'Surgeon', 'Surveyor',\n",
        "       'Technical_writer', 'Technician', 'Technology_specialist',\n",
        "       'Web_designer']]\n",
        "\n",
        "y_test = test_df['Income']\n",
        "\n",
        "\n",
        "X_train2= X_train.iloc[0:1000 ]\n",
        "\n",
        "y_train2 = y_train.iloc[0:1000 ]\n",
        "\n",
        "X_test2 = X_test.iloc[0:500 ]\n",
        "y_test2 = y_test.iloc[0:500]"
      ],
      "execution_count": null,
      "outputs": []
    },
    {
      "cell_type": "code",
      "metadata": {
        "colab": {
          "base_uri": "https://localhost:8080/"
        },
        "id": "ObOoFUrDxo-e",
        "outputId": "ba9194de-57c9-488b-c9d0-8a5e936decf7"
      },
      "source": [
        "from sklearn.linear_model import LinearRegression\n",
        "regr = LinearRegression()\n",
        "regr.fit(X_train,y_train)\n",
        "\n",
        "for name,score in scoring_reg.items():\n",
        "  print(name ,(score(y_test , regr.predict(X_test))))"
      ],
      "execution_count": null,
      "outputs": [
        {
          "output_type": "stream",
          "name": "stdout",
          "text": [
            "mean_absolute_error 2476589.532964286\n",
            "mean_squared_log_error 0.9975518512475954\n",
            "mean_squared_error 8181778461216.35\n",
            "median_absolute_error 2438778.0\n",
            "r2_score 0.003142979203507479\n"
          ]
        }
      ]
    },
    {
      "cell_type": "code",
      "metadata": {
        "id": "HMCj-lxNyt3-",
        "colab": {
          "base_uri": "https://localhost:8080/",
          "height": 69
        },
        "outputId": "c711776e-ddd9-449c-ace4-27ed2718a55f"
      },
      "source": [
        "'''\n",
        "from sklearn.preprocessing import PolynomialFeatures  \n",
        "poly_regs= PolynomialFeatures(degree= 2)  \n",
        "poly_regs.fit_transform(X_train)  \n",
        "lin_reg_2 =LinearRegression()  \n",
        "lin_reg_2.fit(poly_regs,y_train)\n",
        "\n",
        "for name,score in scoring_reg.items():\n",
        "  print(name ,(score(y_test , regr.predict(poly_regs.fit_transform(X_test)))))\n",
        "  '''"
      ],
      "execution_count": null,
      "outputs": [
        {
          "output_type": "execute_result",
          "data": {
            "application/vnd.google.colaboratory.intrinsic+json": {
              "type": "string"
            },
            "text/plain": [
              "'\\nfrom sklearn.preprocessing import PolynomialFeatures  \\npoly_regs= PolynomialFeatures(degree= 2)  \\npoly_regs.fit_transform(X_train)  \\nlin_reg_2 =LinearRegression()  \\nlin_reg_2.fit(poly_regs,y_train)\\n\\nfor name,score in scoring_reg.items():\\n  print(name ,(score(y_test , regr.predict(poly_regs.fit_transform(X_test)))))\\n  '"
            ]
          },
          "metadata": {},
          "execution_count": 67
        }
      ]
    },
    {
      "cell_type": "code",
      "metadata": {
        "id": "Ea5MmRCv2CKm",
        "colab": {
          "base_uri": "https://localhost:8080/",
          "height": 69
        },
        "outputId": "9dab96f5-569a-4d7b-ee38-90b412147769"
      },
      "source": [
        "'''from sklearn.preprocessing import PolynomialFeatures\n",
        "from sklearn.pipeline import make_pipeline\n",
        "from sklearn.linear_model import LinearRegression\n",
        "from sklearn import preprocessing\n",
        "scaler = preprocessing.StandardScaler()\n",
        "degree=5\n",
        "polyreg_scaled=make_pipeline(PolynomialFeatures(degree),scaler,LinearRegression())\n",
        "polyreg_scaled.fit(X_train,y_train)'''"
      ],
      "execution_count": null,
      "outputs": [
        {
          "output_type": "execute_result",
          "data": {
            "application/vnd.google.colaboratory.intrinsic+json": {
              "type": "string"
            },
            "text/plain": [
              "'from sklearn.preprocessing import PolynomialFeatures\\nfrom sklearn.pipeline import make_pipeline\\nfrom sklearn.linear_model import LinearRegression\\nfrom sklearn import preprocessing\\nscaler = preprocessing.StandardScaler()\\ndegree=5\\npolyreg_scaled=make_pipeline(PolynomialFeatures(degree),scaler,LinearRegression())\\npolyreg_scaled.fit(X_train,y_train)'"
            ]
          },
          "metadata": {},
          "execution_count": 68
        }
      ]
    },
    {
      "cell_type": "code",
      "metadata": {
        "id": "-LhKGFKX2Q77",
        "colab": {
          "base_uri": "https://localhost:8080/",
          "height": 52
        },
        "outputId": "cf0b49ca-d944-4462-b90b-7e3067c90fc8"
      },
      "source": [
        "'''from sklearn.preprocessing import StandardScaler\n",
        "sc_X = StandardScaler()\n",
        "sc_y = StandardScaler()\n",
        "X = sc_X.fit_transform(X_train)\n",
        "\n",
        "\n",
        "from sklearn.svm import SVR\n",
        "regressor = SVR(kernel='rbf')\n",
        "regressor.fit(X,y_train)'''\n"
      ],
      "execution_count": null,
      "outputs": [
        {
          "output_type": "execute_result",
          "data": {
            "application/vnd.google.colaboratory.intrinsic+json": {
              "type": "string"
            },
            "text/plain": [
              "\"from sklearn.preprocessing import StandardScaler\\nsc_X = StandardScaler()\\nsc_y = StandardScaler()\\nX = sc_X.fit_transform(X_train)\\n\\n\\nfrom sklearn.svm import SVR\\nregressor = SVR(kernel='rbf')\\nregressor.fit(X,y_train)\""
            ]
          },
          "metadata": {},
          "execution_count": 69
        }
      ]
    },
    {
      "cell_type": "code",
      "metadata": {
        "id": "pbmxZ2Ah3XEt"
      },
      "source": [
        "from sklearn.preprocessing import PolynomialFeatures\n",
        "from sklearn.pipeline import make_pipeline\n",
        "from sklearn.linear_model import LinearRegression\n",
        "degree=2\n",
        "polyreg=make_pipeline(PolynomialFeatures(degree),LinearRegression())\n",
        "polyreg.fit(X_train,y_train)\n",
        "\n",
        "print(score(y_test ,polyreg.predict(X_test) ))"
      ],
      "execution_count": null,
      "outputs": []
    },
    {
      "cell_type": "code",
      "metadata": {
        "id": "Ea9S2jyviWUD"
      },
      "source": [
        ""
      ],
      "execution_count": null,
      "outputs": []
    },
    {
      "cell_type": "code",
      "metadata": {
        "id": "3P17Dis1iWWY"
      },
      "source": [
        "df = pd.read_csv('Training Data.csv')\n"
      ],
      "execution_count": null,
      "outputs": []
    },
    {
      "cell_type": "code",
      "metadata": {
        "id": "uR0SWkATiWYq"
      },
      "source": [
        "df=df.drop_duplicates()\n",
        "\n"
      ],
      "execution_count": null,
      "outputs": []
    },
    {
      "cell_type": "code",
      "metadata": {
        "id": "cLy1t5OjiWbE"
      },
      "source": [
        "import sklearn as skl\n",
        "from sklearn.compose import ColumnTransformer\n",
        "all_att=[['Income','Age','Experience','Married/Single','House_Ownership','Car_Ownership','Profession','CITY','STATE','CURRENT_JOB_YRS','CURRENT_HOUSE_YRS']]\n",
        "\n",
        "X=df.drop(columns=['Id','Income'])\n",
        "Y=np.log1p(df['Income'])\n",
        "\n",
        "from sklearn.impute import SimpleImputer\n",
        "\n",
        "x_train_org, x_test_org , y_train, y_test=skl.model_selection.train_test_split(X,Y,test_size=0.2,random_state=42,shuffle=True,stratify=df[\"Risk_Flag\"])\n",
        "cat_attribs=['Married/Single','House_Ownership','Car_Ownership','Profession','CITY','STATE']\n",
        "num_attribs=['Age','Experience','CURRENT_JOB_YRS','CURRENT_HOUSE_YRS']\n",
        "pipeline2 = ColumnTransformer([\n",
        "(\"cat\", skl.preprocessing.OrdinalEncoder(), cat_attribs),\n",
        "(\"num\", skl.preprocessing.MinMaxScaler(), num_attribs),\n",
        "(\"n\", SimpleImputer(strategy='most_frequent'), ['Risk_Flag'])\n",
        "\n",
        "])\n",
        "#(\"Income\", skl.preprocessing.RobustScaler(), ['Income']),\n",
        "x_train=pipeline2.fit_transform(x_train_org)\n",
        "\n",
        "\n",
        "\n",
        "x_test=pipeline2.fit_transform(x_test_org)\n"
      ],
      "execution_count": null,
      "outputs": []
    },
    {
      "cell_type": "code",
      "metadata": {
        "colab": {
          "base_uri": "https://localhost:8080/"
        },
        "id": "BFEoSQpgiWdN",
        "outputId": "0fc28981-fc17-4aeb-a23f-f5604c3b4443"
      },
      "source": [
        "LR=skl.linear_model.LinearRegression()\n",
        "LR.fit(x_train,y_train)\n",
        "print(LR.score(x_test,y_test))\n"
      ],
      "execution_count": null,
      "outputs": [
        {
          "output_type": "stream",
          "name": "stdout",
          "text": [
            "0.0004438154674667461\n"
          ]
        }
      ]
    },
    {
      "cell_type": "code",
      "metadata": {
        "colab": {
          "base_uri": "https://localhost:8080/"
        },
        "id": "UkSwuK1QiWhy",
        "outputId": "2e904ee3-bc7d-4d16-bfa4-a1866f2d33d6"
      },
      "source": [
        "poly = skl.preprocessing.PolynomialFeatures(4)\n",
        "X_train=poly.fit_transform(x_train)\n",
        "X_test =poly.fit_transform(x_test)\n",
        "LR.fit(x_train,y_train)\n",
        "print(LR.score(x_test,y_test))"
      ],
      "execution_count": null,
      "outputs": [
        {
          "output_type": "stream",
          "name": "stdout",
          "text": [
            "0.0004438154674667461\n"
          ]
        }
      ]
    },
    {
      "cell_type": "code",
      "metadata": {
        "id": "7X9DaXxAiWjU"
      },
      "source": [
        ""
      ],
      "execution_count": null,
      "outputs": []
    }
  ]
}