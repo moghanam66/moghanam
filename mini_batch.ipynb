{
 "cells": [
  {
   "cell_type": "code",
   "execution_count": 1,
   "metadata": {},
   "outputs": [],
   "source": [
    "import numpy as np\n",
    "import matplotlib.pyplot as plt"
   ]
  },
  {
   "cell_type": "code",
   "execution_count": 2,
   "metadata": {},
   "outputs": [
    {
     "name": "stderr",
     "output_type": "stream",
     "text": [
      "<ipython-input-2-3c056601fba2>:1: VisibleDeprecationWarning: Creating an ndarray from ragged nested sequences (which is a list-or-tuple of lists-or-tuples-or ndarrays with different lengths or shapes) is deprecated. If you meant to do this, you must specify 'dtype=object' when creating the ndarray.\n",
      "  size_ = np.array([[1400,1600,1700],[1875,1100,1550,2350],[2450,1425,1700]])\n",
      "<ipython-input-2-3c056601fba2>:3: VisibleDeprecationWarning: Creating an ndarray from ragged nested sequences (which is a list-or-tuple of lists-or-tuples-or ndarrays with different lengths or shapes) is deprecated. If you meant to do this, you must specify 'dtype=object' when creating the ndarray.\n",
      "  price_ = np.array([[245000,312000,279000],[308000,199000,219000,405000],[324000,319000,255000]])\n"
     ]
    }
   ],
   "source": [
    "size_ = np.array([[1400,1600,1700],[1875,1100,1550,2350],[2450,1425,1700]])\n",
    "\n",
    "price_ = np.array([[245000,312000,279000],[308000,199000,219000,405000],[324000,319000,255000]])\n",
    "size = np.array([1400,1600,1700,1875,1100,1550,2350,2450,1425,1700])\n",
    "\n",
    "price = np.array([245000,312000,279000,308000,199000,219000,405000,324000,319000,255000])"
   ]
  },
  {
   "cell_type": "code",
   "execution_count": 14,
   "metadata": {},
   "outputs": [],
   "source": [
    "ths0=[None]*(len(size_)+1)\n",
    "ths1=[None]*(len(size_)+1)\n",
    "ths0[0]=150030\n",
    "ths1[0] = 75.5\n",
    "lr= 0.000001\n",
    "gama = .9\n",
    "\n",
    "for x in range(len(size_)):\n",
    "    v = np.zeros(1000)\n",
    "    ths0[x+1]=ths0[x]\n",
    "    ths1[x+1]=ths1[x]\n",
    "    \n",
    "    for i in range(1001):\n",
    "        if i<999:\n",
    "            hx = ths0[x+1] + (ths1[x+1]*np.array(size_[x]))\n",
    "            v[i+1] = (gama*v[i])+ (1/len(size_[x]))*sum(hx-np.array(price_[x]))\n",
    "            ths0[x+1] = ths0[x+1] - (lr*v[i+1])\n",
    "            ths1[x+1] = ths1[x+1] - (lr*v[i+1])\n",
    "        else:\n",
    "            break\n",
    "\n",
    "    \n",
    "\n",
    "   \n",
    "\n"
   ]
  },
  {
   "cell_type": "code",
   "execution_count": 15,
   "metadata": {},
   "outputs": [
    {
     "name": "stdout",
     "output_type": "stream",
     "text": [
      "[150030, 150036.60429509007, 150031.7179095828, 150034.8399964139]\n"
     ]
    }
   ],
   "source": [
    "print(ths0)"
   ]
  },
  {
   "cell_type": "code",
   "execution_count": 16,
   "metadata": {},
   "outputs": [
    {
     "name": "stdout",
     "output_type": "stream",
     "text": [
      "[75.5, 82.10429509002482, 77.21790958252348, 80.3399964143346]\n"
     ]
    }
   ],
   "source": [
    "print(ths1)"
   ]
  },
  {
   "cell_type": "code",
   "execution_count": 18,
   "metadata": {},
   "outputs": [
    {
     "name": "stdout",
     "output_type": "stream",
     "text": [
      "[262510.83497648 278578.83425935 286612.83390078 300672.33327329\n",
      " 238408.83605218 274561.83443863 338833.8315701  346867.83121153\n",
      " 264519.33488684 286612.83390078]\n"
     ]
    }
   ],
   "source": [
    "price_pred = ths0[-1] + (ths1[-1]*size)\n",
    "print(price_pred)"
   ]
  },
  {
   "cell_type": "code",
   "execution_count": 19,
   "metadata": {},
   "outputs": [
    {
     "data": {
      "image/png": "[encoded data removed]",
      "text/plain": [
       "<Figure size 432x288 with 1 Axes>"
      ]
     },
     "metadata": {
      "needs_background": "light"
     },
     "output_type": "display_data"
    }
   ],
   "source": [
    "plt.scatter(size , price)\n",
    "plt.plot(size , price_pred)\n",
    "plt.show()"
   ]
  },
  {
   "cell_type": "code",
   "execution_count": null,
   "metadata": {},
   "outputs": [],
   "source": []
  }
 ],
 "metadata": {
  "kernelspec": {
   "display_name": "Python 3",
   "language": "python",
   "name": "python3"
  },
  "language_info": {
   "codemirror_mode": {
    "name": "ipython",
    "version": 3
   },
   "file_extension": ".py",
   "mimetype": "text/x-python",
   "name": "python",
   "nbconvert_exporter": "python",
   "pygments_lexer": "ipython3",
   "version": "3.8.5"
  }
 },
 "nbformat": 4,
 "nbformat_minor": 4
}
