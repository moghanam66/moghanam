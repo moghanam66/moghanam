{
 "cells": [
  {
   "cell_type": "code",
   "execution_count": null,
   "metadata": {},
   "outputs": [],
   "source": [
    "class GDLinearRegression:\n",
    "    def __init__(self,alpha=0.01,maxitr=10000):\n",
    "        self.trained = False\n",
    "        self.b = 0\n",
    "        self.alpha=alpha\n",
    "        self.maxitr=maxitr\n",
    "    def fit(self,X,Y):\n",
    "        self.trained=True\n",
    "        datalen=len(Y)\n",
    "        p=np.ones(datalen)\n",
    "        X=np.vstack((p,X.T))\n",
    "        datadim=len(X[:,0])\n",
    "        OptTheta=0.5*np.random.random(datadim)\n",
    "        for i in range (self.maxitr) :\n",
    "            h=X.T.dot(OptTheta)\n",
    "            cost=(1/(2*datalen))*np.sum((h.T-Y)**2)\n",
    "            Grad=(1/(datalen))*np.sum(X.dot(h.T-Y))\n",
    "            OptTheta=OptTheta-(self.alpha*Grad)\n",
    "        self.b=OptTheta\n",
    "    def predict(self,x):\n",
    "        m,l=x.shape\n",
    "        p=np.ones(m)\n",
    "        x=np.vstack((p,x.T))\n",
    "        if self.trained:\n",
    "            h = x.T.dot(self.b)\n",
    "            return h\n",
    "        else:\n",
    "            return print('Please train your model first')\n",
    "    def score(self,X,y_real):\n",
    "        y_pred=self.predict(X)\n",
    "        y_mean=np.mean(y_real)\n",
    "        ss_tot=sum((y_real-y_mean)**2)\n",
    "        ss_res=sum((y_real-y_pred.T)**2)\n",
    "        R2=1-(ss_res/ss_tot)\n",
    "        return R2"
   ]
  }
 ],
 "metadata": {
  "kernelspec": {
   "display_name": "Python 3",
   "language": "python",
   "name": "python3"
  },
  "language_info": {
   "codemirror_mode": {
    "name": "ipython",
    "version": 3
   },
   "file_extension": ".py",
   "mimetype": "text/x-python",
   "name": "python",
   "nbconvert_exporter": "python",
   "pygments_lexer": "ipython3",
   "version": "3.8.5"
  }
 },
 "nbformat": 4,
 "nbformat_minor": 4
}
